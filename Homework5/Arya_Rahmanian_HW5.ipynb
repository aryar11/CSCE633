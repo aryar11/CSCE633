{
 "cells": [
  {
   "cell_type": "markdown",
   "id": "c2f68037",
   "metadata": {},
   "source": [
    "# Homework 5: Convolutional Neural Networks\n",
    "\n",
    "### Arya Rahmanian\n",
    "### CSCE 633"
   ]
  },
  {
   "cell_type": "markdown",
   "id": "c4b753c5",
   "metadata": {},
   "source": [
    "#### Imports"
   ]
  },
  {
   "cell_type": "code",
   "execution_count": 4,
   "id": "5fb86467",
   "metadata": {},
   "outputs": [],
   "source": [
    "import numpy as np\n",
    "from scipy.signal import convolve2d"
   ]
  },
  {
   "cell_type": "markdown",
   "id": "252c1c16-ce84-4446-b6dc-76a040c949b7",
   "metadata": {},
   "source": [
    "## Question 1"
   ]
  },
  {
   "cell_type": "code",
   "execution_count": 5,
   "id": "153a596a",
   "metadata": {},
   "outputs": [],
   "source": [
    "#Input \n",
    "input_matrix = np.array([\n",
    "    [0, 0, 0, 0, 0, 0, 0],\n",
    "    [0, 0, 2, 4, 1, 0, 0],\n",
    "    [0, 3, 1, 1, 0, 1, 0],\n",
    "    [0, 2, 4, 1, 0, 1, 0],\n",
    "    [0, 2, 0, 5, 2, 2, 0],\n",
    "    [0, 0, 1, 3, 2, 1, 0],\n",
    "    [0, 0, 0, 0, 0, 0, 0]\n",
    "])\n",
    "\n",
    "#Filter\n",
    "filter_matrix = np.array([\n",
    "    [1, 0, -1],\n",
    "    [1, 0, -1],\n",
    "    [1, 0, -1]\n",
    "])\n",
    "\n",
    "#without max pooling and with stride of 1\n",
    "conv_stride_1 = convolve2d(input_matrix, filter_matrix, mode='valid')\n",
    "\n",
    "#without max pooling and with stride of 2\n",
    "conv_stride_2 = conv_stride_1[::2, ::2]\n",
    "\n",
    "#max pooling fnc\n",
    "def max_pooling(matrix, pool_size=2, stride=1):\n",
    "    output_shape = ((matrix.shape[0] - pool_size) // stride + 1,\n",
    "                    (matrix.shape[1] - pool_size) // stride + 1)\n",
    "    pooled_matrix = np.zeros(output_shape)\n",
    "    for i in range(0, matrix.shape[0] - pool_size + 1, stride):\n",
    "        for j in range(0, matrix.shape[1] - pool_size + 1, stride):\n",
    "            pooled_matrix[i // stride, j // stride] = np.max(matrix[i:i + pool_size, j:j + pool_size])\n",
    "    return pooled_matrix\n",
    "\n",
    "# with max pooling and with stride of 1\n",
    "conv_stride_1_max_pooling = max_pooling(conv_stride_1)"
   ]
  },
  {
   "cell_type": "code",
   "execution_count": 9,
   "id": "fee68984",
   "metadata": {},
   "outputs": [
    {
     "name": "stdout",
     "output_type": "stream",
     "text": [
      "Without max pooling with stride of 1: \n",
      " [[ 3  2 -2 -4 -1]\n",
      " [ 7  1 -6 -4 -1]\n",
      " [ 5  0 -3 -3 -2]\n",
      " [ 5  5 -1 -5 -4]\n",
      " [ 1  6  3 -5 -4]] \n",
      "\n",
      "Without max pooling with stride of 2: \n",
      " [[ 3 -2 -1]\n",
      " [ 5 -3 -2]\n",
      " [ 1  3 -4]] \n",
      "\n",
      "With max pooling and stride of 1: \n",
      " [[ 7.  2. -2. -1.]\n",
      " [ 7.  1. -3. -1.]\n",
      " [ 5.  5. -1. -2.]\n",
      " [ 6.  6.  3. -4.]] \n",
      "\n"
     ]
    }
   ],
   "source": [
    "print( \"Without max pooling with stride of 1: \\n\" , conv_stride_1, \"\\n\")\n",
    "print( \"Without max pooling with stride of 2: \\n\" , conv_stride_2, \"\\n\" )\n",
    "print( \"With max pooling and stride of 1: \\n\" , conv_stride_1_max_pooling, \"\\n\")"
   ]
  },
  {
   "cell_type": "markdown",
   "id": "e830a115-8284-45c1-bbfd-23a06fcbe513",
   "metadata": {},
   "source": [
    "## Question 2"
   ]
  },
  {
   "cell_type": "markdown",
   "id": "d8c44c05-b24c-4d54-aaa1-b03f3fe856fa",
   "metadata": {},
   "source": [
    "### Imports"
   ]
  },
  {
   "cell_type": "code",
   "execution_count": 38,
   "id": "1d455bc0-a35d-4854-bee8-25e4c9dccbfc",
   "metadata": {},
   "outputs": [],
   "source": [
    "import torch\n",
    "import torchvision\n",
    "import torch.nn as nn\n",
    "import torchvision.transforms as transforms\n",
    "from torch.utils.data import random_split, DataLoader\n",
    "import torch.nn.functional as F\n",
    "import torch.optim as optim\n",
    "import matplotlib.pyplot as plt"
   ]
  },
  {
   "cell_type": "markdown",
   "id": "7ab37f31-26f0-46b6-a08a-fffecccb57f0",
   "metadata": {},
   "source": [
    "### Download MNIST dataset as dataloader"
   ]
  },
  {
   "cell_type": "code",
   "execution_count": 12,
   "id": "3ca58a6b-d663-4989-8fde-602068ddf3e3",
   "metadata": {},
   "outputs": [
    {
     "name": "stdout",
     "output_type": "stream",
     "text": [
      "Downloading http://yann.lecun.com/exdb/mnist/train-images-idx3-ubyte.gz\n",
      "Failed to download (trying next):\n",
      "HTTP Error 403: Forbidden\n",
      "\n",
      "Downloading https://ossci-datasets.s3.amazonaws.com/mnist/train-images-idx3-ubyte.gz\n",
      "Downloading https://ossci-datasets.s3.amazonaws.com/mnist/train-images-idx3-ubyte.gz to ./data\\MNIST\\raw\\train-images-idx3-ubyte.gz\n"
     ]
    },
    {
     "name": "stderr",
     "output_type": "stream",
     "text": [
      "100%|██████████| 9912422/9912422 [00:20<00:00, 483279.74it/s]\n"
     ]
    },
    {
     "name": "stdout",
     "output_type": "stream",
     "text": [
      "Extracting ./data\\MNIST\\raw\\train-images-idx3-ubyte.gz to ./data\\MNIST\\raw\n",
      "\n",
      "Downloading http://yann.lecun.com/exdb/mnist/train-labels-idx1-ubyte.gz\n",
      "Failed to download (trying next):\n",
      "HTTP Error 403: Forbidden\n",
      "\n",
      "Downloading https://ossci-datasets.s3.amazonaws.com/mnist/train-labels-idx1-ubyte.gz\n",
      "Downloading https://ossci-datasets.s3.amazonaws.com/mnist/train-labels-idx1-ubyte.gz to ./data\\MNIST\\raw\\train-labels-idx1-ubyte.gz\n"
     ]
    },
    {
     "name": "stderr",
     "output_type": "stream",
     "text": [
      "100%|██████████| 28881/28881 [00:00<00:00, 646005.35it/s]\n"
     ]
    },
    {
     "name": "stdout",
     "output_type": "stream",
     "text": [
      "Extracting ./data\\MNIST\\raw\\train-labels-idx1-ubyte.gz to ./data\\MNIST\\raw\n",
      "\n",
      "Downloading http://yann.lecun.com/exdb/mnist/t10k-images-idx3-ubyte.gz\n",
      "Failed to download (trying next):\n",
      "HTTP Error 403: Forbidden\n",
      "\n",
      "Downloading https://ossci-datasets.s3.amazonaws.com/mnist/t10k-images-idx3-ubyte.gz\n",
      "Downloading https://ossci-datasets.s3.amazonaws.com/mnist/t10k-images-idx3-ubyte.gz to ./data\\MNIST\\raw\\t10k-images-idx3-ubyte.gz\n"
     ]
    },
    {
     "name": "stderr",
     "output_type": "stream",
     "text": [
      "100%|██████████| 1648877/1648877 [00:02<00:00, 822324.61it/s]\n"
     ]
    },
    {
     "name": "stdout",
     "output_type": "stream",
     "text": [
      "Extracting ./data\\MNIST\\raw\\t10k-images-idx3-ubyte.gz to ./data\\MNIST\\raw\n",
      "\n",
      "Downloading http://yann.lecun.com/exdb/mnist/t10k-labels-idx1-ubyte.gz\n",
      "Failed to download (trying next):\n",
      "HTTP Error 403: Forbidden\n",
      "\n",
      "Downloading https://ossci-datasets.s3.amazonaws.com/mnist/t10k-labels-idx1-ubyte.gz\n",
      "Downloading https://ossci-datasets.s3.amazonaws.com/mnist/t10k-labels-idx1-ubyte.gz to ./data\\MNIST\\raw\\t10k-labels-idx1-ubyte.gz\n"
     ]
    },
    {
     "name": "stderr",
     "output_type": "stream",
     "text": [
      "100%|██████████| 4542/4542 [00:00<00:00, 2268730.35it/s]"
     ]
    },
    {
     "name": "stdout",
     "output_type": "stream",
     "text": [
      "Extracting ./data\\MNIST\\raw\\t10k-labels-idx1-ubyte.gz to ./data\\MNIST\\raw\n",
      "\n"
     ]
    },
    {
     "name": "stderr",
     "output_type": "stream",
     "text": [
      "\n"
     ]
    }
   ],
   "source": [
    "transform = transforms.Compose([transforms.ToTensor()])\n",
    "\n",
    "train_dataset = torchvision.datasets.MNIST(root='./data', train=True, download=True, transform=transform)\n",
    "train_dataloader = torch.utils.data.DataLoader(train_dataset, batch_size=64, shuffle=True)\n",
    "\n",
    "test_dataset = torchvision.datasets.MNIST(root='./data', train=False, download=True, transform=transform)\n",
    "test_dataloader = torch.utils.data.DataLoader(test_dataset, batch_size=64, shuffle=False)"
   ]
  },
  {
   "cell_type": "markdown",
   "id": "156584c2-6f0f-46b5-9001-3e13170b795d",
   "metadata": {},
   "source": [
    "### Data Exploration"
   ]
  },
  {
   "cell_type": "code",
   "execution_count": 23,
   "id": "70b23c4a-5fc2-4e6f-bdf5-74f37e68e04d",
   "metadata": {},
   "outputs": [
    {
     "data": {
      "image/png": "[encoded data removed]",
      "text/plain": [
       "<Figure size 1500x200 with 10 Axes>"
      ]
     },
     "metadata": {},
     "output_type": "display_data"
    }
   ],
   "source": [
    "examples_per_digit = {\n",
    "    0: None,\n",
    "    1: None,    \n",
    "    2: None,\n",
    "    3: None, \n",
    "    4: None,\n",
    "    5: None,\n",
    "    6: None,\n",
    "    7: None,\n",
    "    8: None,\n",
    "    9: None \n",
    "}\n",
    "count = 0\n",
    "for images, labels in train_dataloader:\n",
    "    for i in range(len(labels)):\n",
    "        digit = labels[i].item()\n",
    "        if examples_per_digit[digit] is None:\n",
    "            examples_per_digit[digit] = images[i]\n",
    "            count +=1\n",
    "        if count == 10:\n",
    "            break\n",
    "    if count == 10:\n",
    "        break\n",
    "\n",
    "fig, axs = plt.subplots(1, 10, figsize=(15, 2))\n",
    "for i in range(10):\n",
    "    axs[i].imshow(examples_per_digit[i].squeeze(), cmap='gray')\n",
    "    axs[i].set_title(str(i))\n",
    "    axs[i].axis('off')\n",
    "plt.show()\n",
    "    "
   ]
  },
  {
   "cell_type": "markdown",
   "id": "f7bc199d-6242-4e59-a3bf-70c786c8744e",
   "metadata": {},
   "source": [
    "### Modeling\n",
    "Implementing the CNN"
   ]
  },
  {
   "cell_type": "markdown",
   "id": "08533b5b-4a54-4373-96c6-e66f7f8896d5",
   "metadata": {},
   "source": [
    "#### Using GPU if available"
   ]
  },
  {
   "cell_type": "code",
   "execution_count": 75,
   "id": "af22219c-592a-4060-b636-e518cf917604",
   "metadata": {},
   "outputs": [
    {
     "name": "stdout",
     "output_type": "stream",
     "text": [
      "Using device: cuda\n"
     ]
    }
   ],
   "source": [
    "device = torch.device('cuda' if torch.cuda.is_available() else 'cpu')\n",
    "print(f'Using device: {device}')"
   ]
  },
  {
   "cell_type": "code",
   "execution_count": 76,
   "id": "39dc40fd-fbf5-4761-8034-5f5a512a1d56",
   "metadata": {},
   "outputs": [
    {
     "name": "stdout",
     "output_type": "stream",
     "text": [
      "Number of training samples: 15728\n",
      "Number of validation samples: 3932\n",
      "Number of test samples: 10000\n"
     ]
    }
   ],
   "source": [
    "train_size = int(0.8 * len(train_dataset))  # 80% for training\n",
    "val_size = len(train_dataset) - train_size  # 20% for validation\n",
    "\n",
    "train_dataset, val_dataset = random_split(train_dataset, [train_size, val_size])\n",
    "\n",
    "train_dataloader = DataLoader(train_dataset, batch_size=64, shuffle=True, num_workers=4, pin_memory=True)\n",
    "val_dataloader = DataLoader(val_dataset, batch_size=64, shuffle=False, num_workers=4, pin_memory=True)\n",
    "test_dataloader = DataLoader(test_dataset, batch_size=64, shuffle=False, num_workers=4, pin_memory=True)\n",
    "\n",
    "print(f\"Number of training samples: {len(train_dataset)}\")\n",
    "print(f\"Number of validation samples: {len(val_dataset)}\")\n",
    "print(f\"Number of test samples: {len(test_dataset)}\")"
   ]
  },
  {
   "cell_type": "markdown",
   "id": "242f141a-7e69-4713-b870-e6bbdae09563",
   "metadata": {},
   "source": [
    "### CNN Architecture"
   ]
  },
  {
   "cell_type": "code",
   "execution_count": 90,
   "id": "4a5bd0e7-1dde-4654-882c-73918d9e5aae",
   "metadata": {},
   "outputs": [],
   "source": [
    "class CNN(nn.Module):\n",
    "    def __init__(self):\n",
    "        super(CNN, self).__init__()\n",
    "        self.conv1 = nn.Conv2d(in_channels=1, out_channels=16, kernel_size=3, stride=1, padding=1)\n",
    "        self.conv2 = nn.Conv2d(in_channels=16, out_channels=32, kernel_size=3, stride=1, padding=1)\n",
    "        self.pool = nn.MaxPool2d(kernel_size=2, stride=2)\n",
    "        self.fc1 = nn.Linear(32 * 7 * 7, 128)\n",
    "        self.fc2 = nn.Linear(128, 10)\n",
    "        self.dropout = nn.Dropout(p=0.3)  \n",
    "\n",
    "    def forward(self, x):\n",
    "        x = F.relu(self.conv1(x))\n",
    "        x = self.pool(x)\n",
    "        x = F.relu(self.conv2(x))\n",
    "        x = self.pool(x)\n",
    "        x = x.view(-1, 32 * 7 * 7)\n",
    "        x = F.relu(self.fc1(x))\n",
    "        x = self.dropout(x) \n",
    "        x = self.fc2(x)\n",
    "        return x"
   ]
  },
  {
   "cell_type": "code",
   "execution_count": 91,
   "id": "2beba9d6-e7b3-41f9-888b-ef608c85063b",
   "metadata": {},
   "outputs": [
    {
     "data": {
      "image/png": "[encoded data removed]",
      "text/plain": [
       "<Figure size 1000x1000 with 16 Axes>"
      ]
     },
     "metadata": {},
     "output_type": "display_data"
    },
    {
     "data": {
      "image/png": "[encoded data removed]",
      "text/plain": [
       "<Figure size 1500x700 with 32 Axes>"
      ]
     },
     "metadata": {},
     "output_type": "display_data"
    }
   ],
   "source": [
    "model = CNN()\n",
    "\n",
    "def visualize_filters(model):\n",
    "    fig, axs = plt.subplots(4, 4, figsize=(10, 10))\n",
    "    filters = model.conv1.weight.data.clone()\n",
    "    for i in range(16):\n",
    "        filter = filters[i].numpy()[0, :, :]\n",
    "        axs[i // 4, i % 4].imshow(filter, cmap='gray')\n",
    "        axs[i // 4, i % 4].axis('off')\n",
    "        axs[i // 4, i % 4].set_title(f'Filter {i+1}')\n",
    "    plt.suptitle('Filters in Convolutional Layer 1')\n",
    "    plt.show()\n",
    "\n",
    "    filters = model.conv2.weight.data.clone()\n",
    "    fig, axs = plt.subplots(4, 8, figsize=(15, 7))\n",
    "    for i in range(32):\n",
    "        filter = filters[i].numpy()[0, :, :]\n",
    "        axs[i // 8, i % 8].imshow(filter, cmap='gray')\n",
    "        axs[i // 8, i % 8].axis('off')\n",
    "        axs[i // 8, i % 8].set_title(f'Filter {i+1}')\n",
    "    plt.suptitle('Filters in Convolutional Layer 2')\n",
    "    plt.show()\n",
    "\n",
    "visualize_filters(model)"
   ]
  },
  {
   "cell_type": "markdown",
   "id": "a9637c7b-66d1-4cb7-ac9d-587eb90bdf90",
   "metadata": {},
   "source": [
    "### Train Model"
   ]
  },
  {
   "cell_type": "code",
   "execution_count": 92,
   "id": "6ff76040-5d1f-48f7-b57a-45d7ade9c214",
   "metadata": {},
   "outputs": [],
   "source": [
    "def train_model(model, train_loader, val_loader, num_epochs=10, learning_rate=0.0001):\n",
    "    criterion = nn.CrossEntropyLoss()\n",
    "    optimizer = optim.Adam(model.parameters(), lr=learning_rate)\n",
    "    train_losses = []\n",
    "    val_losses = []\n",
    "    train_accuracies = []\n",
    "    val_accuracies = []\n",
    "\n",
    "    for epoch in range(num_epochs):\n",
    "        model.train()\n",
    "        running_train_loss = 0.0\n",
    "        correct_train = 0\n",
    "        total_train = 0\n",
    "\n",
    "        for inputs, labels in train_loader:\n",
    "            inputs, labels = inputs.to(device), labels.to(device)  \n",
    "            optimizer.zero_grad()\n",
    "            outputs = model(inputs)\n",
    "            loss = criterion(outputs, labels)\n",
    "            loss.backward()\n",
    "            optimizer.step()\n",
    "            running_train_loss += loss.item() * inputs.size(0)\n",
    "\n",
    "            _, predicted = torch.max(outputs.data, 1)\n",
    "            total_train += labels.size(0)\n",
    "            correct_train += (predicted == labels).sum().item()\n",
    "\n",
    "        epoch_train_loss = running_train_loss / len(train_loader.dataset)\n",
    "        train_losses.append(epoch_train_loss)\n",
    "        train_accuracy = correct_train / total_train\n",
    "        train_accuracies.append(train_accuracy)\n",
    "\n",
    "        # validation\n",
    "        model.eval()\n",
    "        running_val_loss = 0.0\n",
    "        correct_val = 0\n",
    "        total_val = 0\n",
    "\n",
    "        with torch.no_grad():\n",
    "            for inputs, labels in val_loader:\n",
    "                inputs, labels = inputs.to(device), labels.to(device)  \n",
    "                outputs = model(inputs)\n",
    "                loss = criterion(outputs, labels)\n",
    "                running_val_loss += loss.item() * inputs.size(0)\n",
    "\n",
    "                _, predicted = torch.max(outputs.data, 1)\n",
    "                total_val += labels.size(0)\n",
    "                correct_val += (predicted == labels).sum().item()\n",
    "\n",
    "        epoch_val_loss = running_val_loss / len(val_loader.dataset)\n",
    "        val_losses.append(epoch_val_loss)\n",
    "        val_accuracy = correct_val / total_val\n",
    "        val_accuracies.append(val_accuracy)\n",
    "\n",
    "        print(f\"Epoch [{epoch+1}/{num_epochs}], \"\n",
    "              f\"Train Loss: {epoch_train_loss:.4f}, Train Accuracy: {train_accuracy:.4f}, \"\n",
    "              f\"Val Loss: {epoch_val_loss:.4f}, Val Accuracy: {val_accuracy:.4f}\")\n",
    "\n",
    "    return train_losses, val_losses, train_accuracies, val_accuracies"
   ]
  },
  {
   "cell_type": "code",
   "execution_count": 93,
   "id": "81809c7b-cb0f-4a7d-b82f-70f482e82152",
   "metadata": {},
   "outputs": [
    {
     "name": "stdout",
     "output_type": "stream",
     "text": [
      "Epoch [1/20], Train Loss: 0.6246, Train Accuracy: 0.8108, Val Loss: 0.1719, Val Accuracy: 0.9491\n",
      "Epoch [2/20], Train Loss: 0.1749, Train Accuracy: 0.9474, Val Loss: 0.1254, Val Accuracy: 0.9629\n",
      "Epoch [3/20], Train Loss: 0.1204, Train Accuracy: 0.9640, Val Loss: 0.0973, Val Accuracy: 0.9708\n",
      "Epoch [4/20], Train Loss: 0.0934, Train Accuracy: 0.9707, Val Loss: 0.0815, Val Accuracy: 0.9763\n",
      "Epoch [5/20], Train Loss: 0.0807, Train Accuracy: 0.9750, Val Loss: 0.0766, Val Accuracy: 0.9748\n",
      "Epoch [6/20], Train Loss: 0.0668, Train Accuracy: 0.9795, Val Loss: 0.0670, Val Accuracy: 0.9789\n",
      "Epoch [7/20], Train Loss: 0.0567, Train Accuracy: 0.9818, Val Loss: 0.0642, Val Accuracy: 0.9797\n",
      "Epoch [8/20], Train Loss: 0.0467, Train Accuracy: 0.9849, Val Loss: 0.0650, Val Accuracy: 0.9812\n",
      "Epoch [9/20], Train Loss: 0.0408, Train Accuracy: 0.9865, Val Loss: 0.0636, Val Accuracy: 0.9791\n",
      "Epoch [10/20], Train Loss: 0.0340, Train Accuracy: 0.9888, Val Loss: 0.0718, Val Accuracy: 0.9799\n",
      "Epoch [11/20], Train Loss: 0.0357, Train Accuracy: 0.9868, Val Loss: 0.0576, Val Accuracy: 0.9827\n",
      "Epoch [12/20], Train Loss: 0.0291, Train Accuracy: 0.9905, Val Loss: 0.0635, Val Accuracy: 0.9825\n",
      "Epoch [13/20], Train Loss: 0.0271, Train Accuracy: 0.9905, Val Loss: 0.0715, Val Accuracy: 0.9794\n",
      "Epoch [14/20], Train Loss: 0.0237, Train Accuracy: 0.9910, Val Loss: 0.0591, Val Accuracy: 0.9845\n",
      "Epoch [15/20], Train Loss: 0.0220, Train Accuracy: 0.9929, Val Loss: 0.0619, Val Accuracy: 0.9822\n",
      "Epoch [16/20], Train Loss: 0.0234, Train Accuracy: 0.9915, Val Loss: 0.0587, Val Accuracy: 0.9835\n",
      "Epoch [17/20], Train Loss: 0.0162, Train Accuracy: 0.9945, Val Loss: 0.0636, Val Accuracy: 0.9847\n",
      "Epoch [18/20], Train Loss: 0.0168, Train Accuracy: 0.9937, Val Loss: 0.0675, Val Accuracy: 0.9837\n",
      "Epoch [19/20], Train Loss: 0.0171, Train Accuracy: 0.9938, Val Loss: 0.0608, Val Accuracy: 0.9863\n",
      "Epoch [20/20], Train Loss: 0.0176, Train Accuracy: 0.9936, Val Loss: 0.0738, Val Accuracy: 0.9812\n"
     ]
    }
   ],
   "source": [
    "model = CNN()\n",
    "model.to(device)\n",
    "train_losses, val_losses, train_accuracies, val_accuracies = train_model(model, train_dataloader, val_dataloader, num_epochs=20, learning_rate=0.001)"
   ]
  },
  {
   "cell_type": "code",
   "execution_count": 94,
   "id": "012260d2-53f5-405b-b53c-39bb1d19f78c",
   "metadata": {},
   "outputs": [
    {
     "data": {
      "image/png": "[encoded data removed]",
      "text/plain": [
       "<Figure size 1000x500 with 1 Axes>"
      ]
     },
     "metadata": {},
     "output_type": "display_data"
    }
   ],
   "source": [
    "plt.figure(figsize=(10, 5))\n",
    "plt.plot(train_losses, label='Train Loss')\n",
    "plt.plot(val_losses, label='Val Loss')\n",
    "plt.xlabel('Epochs')\n",
    "plt.ylabel('Loss')\n",
    "plt.title('Training and Validation Loss over Epochs')\n",
    "plt.legend()\n",
    "plt.grid(True)\n",
    "plt.show()"
   ]
  },
  {
   "cell_type": "markdown",
   "id": "3949a059-5581-4c68-a4a2-fc19a51b24a9",
   "metadata": {},
   "source": [
    "### Testing Model"
   ]
  },
  {
   "cell_type": "code",
   "execution_count": 96,
   "id": "6c9d9d5c-8ed2-4f39-8850-26ac4d7c0f56",
   "metadata": {},
   "outputs": [
    {
     "name": "stdout",
     "output_type": "stream",
     "text": [
      "Test Accuracy: 0.9814\n"
     ]
    }
   ],
   "source": [
    "model.eval()\n",
    "correct = 0\n",
    "total = 0\n",
    "with torch.no_grad():\n",
    "    for inputs, labels in test_dataloader:\n",
    "        inputs, labels = inputs.to(device), labels.to(device) \n",
    "        outputs = model(inputs)\n",
    "        _, predicted = torch.max(outputs.data, 1)\n",
    "        total += labels.size(0)\n",
    "        correct += (predicted == labels).sum().item()\n",
    "\n",
    "test_accuracy = correct / total\n",
    "print(f\"Test Accuracy: {test_accuracy:.4f}\")"
   ]
  },
  {
   "cell_type": "markdown",
   "id": "b6d7927b-62b4-42dc-baf3-d92836c249e5",
   "metadata": {},
   "source": [
    "## Conclusions\n",
    "\n",
    "I ended up testing my model with different hyperparameters: epochs, learning rate, dropout probabilities, optimizers, and criterions. I tested a lr from 0.1 to 0.00001, using the SGD optimizer, and also a wide range of epochs. Even for the worst configurations, my test accuracy was still around 92%. In the end, the current tuning is what I found to be the best solution. Adam optimizer, 20 epochs, dropout probability of 30%, and a lr of 0.001. As you can see from the plot above, the training and validation loss were starting to diverge, so I could have stopped training a little earlier but I don't believe my model started to overfit.\n",
    "\n",
    "My testing accuracy is 98%, which I am plenty satisfied with."
   ]
  }
 ],
 "metadata": {
  "kernelspec": {
   "display_name": "Python 3 (ipykernel)",
   "language": "python",
   "name": "python3"
  },
  "language_info": {
   "codemirror_mode": {
    "name": "ipython",
    "version": 3
   },
   "file_extension": ".py",
   "mimetype": "text/x-python",
   "name": "python",
   "nbconvert_exporter": "python",
   "pygments_lexer": "ipython3",
   "version": "3.11.7"
  }
 },
 "nbformat": 4,
 "nbformat_minor": 5
}
