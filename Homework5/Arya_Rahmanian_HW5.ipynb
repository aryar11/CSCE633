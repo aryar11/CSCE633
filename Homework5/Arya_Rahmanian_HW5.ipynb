{
 "cells": [
  {
   "cell_type": "markdown",
   "id": "c2f68037",
   "metadata": {},
   "source": [
    "# Homework 5: Convolutional Neural Networks\n",
    "\n",
    "### Arya Rahmanian\n",
    "### CSCE 633"
   ]
  },
  {
   "cell_type": "markdown",
   "id": "c4b753c5",
   "metadata": {},
   "source": [
    "#### Imports"
   ]
  },
  {
   "cell_type": "code",
   "execution_count": 4,
   "id": "5fb86467",
   "metadata": {},
   "outputs": [],
   "source": [
    "import numpy as np\n",
    "from scipy.signal import correlate2d"
   ]
  },
  {
   "cell_type": "code",
   "execution_count": 5,
   "id": "153a596a",
   "metadata": {},
   "outputs": [
    {
     "data": {
      "text/plain": [
       "(array([[-5,  3,  5,  2,  0],\n",
       "        [-9,  4,  9,  3,  0],\n",
       "        [-6, -2,  4,  7,  2],\n",
       "        [-8, -5,  4,  7,  4],\n",
       "        [-4, -6,  0,  6,  4]]),\n",
       " array([[-5,  5,  0],\n",
       "        [-6,  4,  2],\n",
       "        [-4,  0,  4]]),\n",
       " array([[ 4,  9,  0],\n",
       "        [-2,  7,  4],\n",
       "        [-4,  6,  4]]))"
      ]
     },
     "execution_count": 5,
     "metadata": {},
     "output_type": "execute_result"
    }
   ],
   "source": [
    "# Input matrix\n",
    "input_matrix = np.array([\n",
    "    [0, 0, 0, 0, 0, 0, 0],\n",
    "    [0, 2, 4, 1, 0, 0, 0],\n",
    "    [0, 3, 1, 1, 0, 0, 0],\n",
    "    [0, 2, 4, 1, 0, 0, 0],\n",
    "    [0, 0, 1, 5, 2, 0, 0],\n",
    "    [0, 0, 3, 1, 2, 0, 0],\n",
    "    [0, 0, 0, 0, 0, 0, 0]\n",
    "])\n",
    "\n",
    "# Filter matrix\n",
    "filter_matrix = np.array([\n",
    "    [1, 0, -1],\n",
    "    [1, 0, -1],\n",
    "    [1, 0, -1]\n",
    "])\n",
    "\n",
    "# Convolution without max pooling and with stride of 1\n",
    "output_stride_1 = correlate2d(input_matrix, filter_matrix, mode='valid')\n",
    "\n",
    "# Convolution without max pooling and with stride of 2\n",
    "output_stride_2 = correlate2d(input_matrix, filter_matrix, mode='valid')[::2, ::2]\n",
    "\n",
    "# Convolution with max pooling and with stride of 1\n",
    "output_stride_1_max_pooling = np.maximum.reduceat(\n",
    "    np.maximum.reduceat(output_stride_1, np.arange(0, output_stride_1.shape[0], 2), axis=0),\n",
    "    np.arange(0, output_stride_1.shape[1], 2), axis=1\n",
    ")\n",
    "\n",
    "output_stride_1, output_stride_2, output_stride_1_max_pooling\n"
   ]
  },
  {
   "cell_type": "code",
   "execution_count": null,
   "id": "fee68984",
   "metadata": {},
   "outputs": [],
   "source": []
  }
 ],
 "metadata": {
  "kernelspec": {
   "display_name": "Python 3 (ipykernel)",
   "language": "python",
   "name": "python3"
  },
  "language_info": {
   "codemirror_mode": {
    "name": "ipython",
    "version": 3
   },
   "file_extension": ".py",
   "mimetype": "text/x-python",
   "name": "python",
   "nbconvert_exporter": "python",
   "pygments_lexer": "ipython3",
   "version": "3.11.5"
  }
 },
 "nbformat": 4,
 "nbformat_minor": 5
}
