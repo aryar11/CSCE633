{
 "cells": [
  {
   "cell_type": "markdown",
   "id": "a116e89e-6588-424a-b975-8690900716e8",
   "metadata": {},
   "source": [
    "# Final Project\n",
    "## CSCE 633\n",
    "## Arya Rahmanian\n",
    "## Summer 2024"
   ]
  },
  {
   "cell_type": "markdown",
   "id": "c0a6918d-63c6-4660-96b9-3b9aab2dfb6e",
   "metadata": {},
   "source": [
    "### Load Dataset"
   ]
  },
  {
   "cell_type": "code",
   "execution_count": 182,
   "id": "1e07bff3-7c39-4dde-aa45-654cfd79f7d6",
   "metadata": {},
   "outputs": [
    {
     "name": "stdout",
     "output_type": "stream",
     "text": [
      "                                                     text  stars\n",
      "117921  This was a tough one.  After having heard good...    3.0\n",
      "117777  I have been here probably 3 times in the last ...    3.0\n",
      "172811  I don't usually do chain restaurants, but I st...    4.0\n",
      "63245   This place is just out there... There main onl...    1.0\n",
      "87607   Went here for Happy Hour one evening. Twas a g...    4.0\n",
      "                                                    text  stars\n",
      "13742  Sadly I tried chipotle again after the last re...    3.0\n",
      "12304  This place sells really good fresh corn tortil...    4.0\n",
      "6107   Having only recently moved to PA, I'm still ge...    4.0\n",
      "2796   This is by far my favorite breakfast spot in N...    5.0\n",
      "3379   This is a great store. I come here often, ever...    5.0\n"
     ]
    }
   ],
   "source": [
    "import pandas as pd\n",
    "\n",
    "# Load data\n",
    "train_df = pd.read_csv(\"yelp_review_train.csv\")\n",
    "test_df = pd.read_csv(\"yelp_review_test.csv\")\n",
    "\n",
    "# Randomly select data points for training, validation, and testing\n",
    "train_data = train_df.sample(n=10000, random_state=42)\n",
    "val_data = train_df.drop(train_data.index).sample(n=1000, random_state=42)\n",
    "test_data = test_df.sample(n=2000, random_state=42)\n",
    "\n",
    "print(train_data.head())\n",
    "#print(val_data.head())\n",
    "print(test_data.head())\n"
   ]
  },
  {
   "cell_type": "code",
   "execution_count": 183,
   "id": "5d40a136-0129-44c9-bc6e-38c06e86d021",
   "metadata": {},
   "outputs": [
    {
     "data": {
      "text/plain": [
       "\"\\ndef load_glove_embeddings(file_path):\\n    embedding_dict = {}\\n    with open(file_path, 'r', encoding='utf-8') as f:\\n        for line in f:\\n            values = line.split()\\n            word = values[0]\\n            vector = np.array(values[1:], dtype='float32')\\n            embedding_dict[word] = vector\\n    return embedding_dict\\n\\n\\nglove_file = 'glove.twitter.27B.50d.txt'  \\n\\nembedding_dict = load_glove_embeddings(glove_file)\\n\""
      ]
     },
     "execution_count": 183,
     "metadata": {},
     "output_type": "execute_result"
    }
   ],
   "source": [
    "import numpy as np\n",
    "\"\"\"\n",
    "def load_glove_embeddings(file_path):\n",
    "    embedding_dict = {}\n",
    "    with open(file_path, 'r', encoding='utf-8') as f:\n",
    "        for line in f:\n",
    "            values = line.split()\n",
    "            word = values[0]\n",
    "            vector = np.array(values[1:], dtype='float32')\n",
    "            embedding_dict[word] = vector\n",
    "    return embedding_dict\n",
    "\n",
    "\n",
    "glove_file = 'glove.twitter.27B.50d.txt'  \n",
    "\n",
    "embedding_dict = load_glove_embeddings(glove_file)\n",
    "\"\"\""
   ]
  },
  {
   "cell_type": "markdown",
   "id": "f502c828-6b04-4f06-bcf4-dca94bd72064",
   "metadata": {},
   "source": [
    "### Data Pre-Processing"
   ]
  },
  {
   "cell_type": "code",
   "execution_count": 184,
   "id": "94fa5e05-19ec-4351-9dea-964b0c7b638e",
   "metadata": {},
   "outputs": [],
   "source": [
    "def map_labels(stars):\n",
    "    return 0 if stars < 4 else 1\n",
    "\n",
    "# create our label column\n",
    "train_data['label'] = train_data['stars'].apply(map_labels)\n",
    "test_data['label'] = test_data['stars'].apply(map_labels)\n",
    "val_data['label'] = val_data['stars'].apply(map_labels)\n"
   ]
  },
  {
   "cell_type": "code",
   "execution_count": 185,
   "id": "bb38ce9b-96ad-4420-ba9a-912fe2b8933a",
   "metadata": {},
   "outputs": [
    {
     "name": "stderr",
     "output_type": "stream",
     "text": [
      "[nltk_data] Downloading package stopwords to C:\\Users\\Arya\n",
      "[nltk_data]     Rahmanian\\AppData\\Roaming\\nltk_data...\n",
      "[nltk_data]   Package stopwords is already up-to-date!\n"
     ]
    }
   ],
   "source": [
    "import re\n",
    "from nltk.corpus import stopwords\n",
    "import nltk\n",
    "\n",
    "nltk.download('stopwords')\n",
    "\n",
    "stop_words = set(stopwords.words('english'))\n",
    "\n",
    "#function to preprocess text\n",
    "def preprocess_text(text):\n",
    "    # Remove punctuation\n",
    "    text = re.sub(r'[^\\w\\s]', '', text)\n",
    "    # Convert to lowercase\n",
    "    text = text.lower()\n",
    "    # Remove stop words\n",
    "    text = ' '.join([word for word in text.split() if word not in stop_words])\n",
    "    return text\n",
    "\n",
    "# Apply preprocessing to the 'text' column\n",
    "train_data['text'] = train_data['text'].apply(preprocess_text)\n",
    "val_data['text'] = val_data['text'].apply(preprocess_text)\n",
    "test_data['text'] = test_data['text'].apply(preprocess_text)\n"
   ]
  },
  {
   "cell_type": "markdown",
   "id": "2057554c-7151-4d64-b2f8-552422456cc2",
   "metadata": {},
   "source": [
    "### Tokenize and Pad Text Vectors"
   ]
  },
  {
   "cell_type": "code",
   "execution_count": 186,
   "id": "5c716a79-71d4-43e4-8952-d9a417acbbad",
   "metadata": {},
   "outputs": [
    {
     "name": "stdout",
     "output_type": "stream",
     "text": [
      "(10000, 150)\n",
      "(1000, 150)\n",
      "(2000, 150)\n"
     ]
    }
   ],
   "source": [
    "from tensorflow.keras.preprocessing.text import Tokenizer\n",
    "from tensorflow.keras.preprocessing.sequence import pad_sequences\n",
    "\n",
    "tokenizer = Tokenizer()\n",
    "tokenizer.fit_on_texts(train_data['text'])\n",
    "\n",
    "# Convert text to sequences\n",
    "train_sequences = tokenizer.texts_to_sequences(train_data['text'])\n",
    "val_sequences = tokenizer.texts_to_sequences(val_data['text'])\n",
    "test_sequences = tokenizer.texts_to_sequences(test_data['text'])\n",
    "\n",
    "# Define a maximum length for sequences\n",
    "max_length = 150\n",
    "\n",
    "# Pad/Truncate sequences to the same length\n",
    "train_padded = pad_sequences(train_sequences, maxlen=max_length, padding='post', truncating='post')\n",
    "val_padded = pad_sequences(val_sequences, maxlen=max_length, padding='post', truncating='post')\n",
    "test_padded = pad_sequences(test_sequences, maxlen=max_length, padding='post', truncating='post')\n",
    "\n",
    "# Display the shape of the padded sequences\n",
    "print(train_padded.shape)\n",
    "print(val_padded.shape)\n",
    "print(test_padded.shape)"
   ]
  },
  {
   "cell_type": "markdown",
   "id": "2cc2e052-e3b8-4f68-8fd5-162cc79b81bc",
   "metadata": {},
   "source": [
    "### Build Model"
   ]
  },
  {
   "cell_type": "markdown",
   "id": "6da5e984-c66d-4c35-a4e3-2ce86d57fe85",
   "metadata": {},
   "source": [
    "#### Transformer"
   ]
  },
  {
   "cell_type": "code",
   "execution_count": 187,
   "id": "f6e63601-75be-425f-b4fa-2df85cd14d29",
   "metadata": {},
   "outputs": [
    {
     "data": {
      "text/plain": [
       "'\\nclass TransformerSentimentClassifier(nn.Module):\\n    def __init__(self, vocab_size, embed_dim, num_heads, hidden_dim, num_layers, num_classes, max_length):\\n        super(TransformerSentimentClassifier, self).__init__()\\n        \\n        # embedding layer\\n        self.embedding = nn.Embedding(vocab_size, embed_dim)\\n        \\n        # positional encoding\\n        self.positional_encoding = nn.Parameter(torch.zeros(1, max_length, embed_dim))\\n        \\n        # transformer encoder layers\\n        encoder_layers = nn.TransformerEncoderLayer(d_model=embed_dim, nhead=num_heads, dim_feedforward=hidden_dim)\\n        self.transformer_encoder = nn.TransformerEncoder(encoder_layers, num_layers=num_layers)\\n        \\n        self.fc = nn.Linear(embed_dim, num_classes)\\n        \\n    def forward(self, x):\\n       \\n        x = self.embedding(x)  # (batch_size, max_length, embed_dim)\\n        x += self.positional_encoding[:, :x.size(1), :]\\n        \\n        x = x.permute(1, 0, 2) \\n        x = self.transformer_encoder(x)  # (max_length, batch_size, embed_dim)\\n        \\n        x = x.mean(dim=0)  # (batch_size, embed_dim)\\n        x = self.fc(x)  # (batch_size, num_classes)\\n        return x\\n'"
      ]
     },
     "execution_count": 187,
     "metadata": {},
     "output_type": "execute_result"
    }
   ],
   "source": [
    "\"\"\"\n",
    "class TransformerSentimentClassifier(nn.Module):\n",
    "    def __init__(self, vocab_size, embed_dim, num_heads, hidden_dim, num_layers, num_classes, max_length):\n",
    "        super(TransformerSentimentClassifier, self).__init__()\n",
    "        \n",
    "        # embedding layer\n",
    "        self.embedding = nn.Embedding(vocab_size, embed_dim)\n",
    "        \n",
    "        # positional encoding\n",
    "        self.positional_encoding = nn.Parameter(torch.zeros(1, max_length, embed_dim))\n",
    "        \n",
    "        # transformer encoder layers\n",
    "        encoder_layers = nn.TransformerEncoderLayer(d_model=embed_dim, nhead=num_heads, dim_feedforward=hidden_dim)\n",
    "        self.transformer_encoder = nn.TransformerEncoder(encoder_layers, num_layers=num_layers)\n",
    "        \n",
    "        self.fc = nn.Linear(embed_dim, num_classes)\n",
    "        \n",
    "    def forward(self, x):\n",
    "       \n",
    "        x = self.embedding(x)  # (batch_size, max_length, embed_dim)\n",
    "        x += self.positional_encoding[:, :x.size(1), :]\n",
    "        \n",
    "        x = x.permute(1, 0, 2) \n",
    "        x = self.transformer_encoder(x)  # (max_length, batch_size, embed_dim)\n",
    "        \n",
    "        x = x.mean(dim=0)  # (batch_size, embed_dim)\n",
    "        x = self.fc(x)  # (batch_size, num_classes)\n",
    "        return x\n",
    "\"\"\""
   ]
  },
  {
   "cell_type": "code",
   "execution_count": 188,
   "id": "008b5a21-e1cf-417b-aace-a7ae185c06d7",
   "metadata": {},
   "outputs": [
    {
     "data": {
      "text/plain": [
       "'\\n# Parameters\\nvocab_size = len(tokenizer.word_index) + 1  # +1 for padding token\\nembed_dim = 128\\nnum_heads = 4\\nhidden_dim = 256\\nnum_layers = 2\\nnum_classes = 2  \\n\\n# Initialize model\\nmodel = TransformerSentimentClassifier(vocab_size, embed_dim, num_heads, hidden_dim, num_layers, num_classes, max_length)\\n\\n# Print the model architecture\\nprint(model)\\n'"
      ]
     },
     "execution_count": 188,
     "metadata": {},
     "output_type": "execute_result"
    }
   ],
   "source": [
    "\"\"\"\n",
    "# Parameters\n",
    "vocab_size = len(tokenizer.word_index) + 1  # +1 for padding token\n",
    "embed_dim = 128\n",
    "num_heads = 4\n",
    "hidden_dim = 256\n",
    "num_layers = 2\n",
    "num_classes = 2  \n",
    "\n",
    "# Initialize model\n",
    "model = TransformerSentimentClassifier(vocab_size, embed_dim, num_heads, hidden_dim, num_layers, num_classes, max_length)\n",
    "\n",
    "# Print the model architecture\n",
    "print(model)\n",
    "\"\"\""
   ]
  },
  {
   "cell_type": "code",
   "execution_count": 189,
   "id": "bd139a1c-fb01-4398-b865-506a6de864ca",
   "metadata": {},
   "outputs": [],
   "source": [
    "class TransformerSentimentClassifier(nn.Module):\n",
    "    def __init__(self, vocab_size, embed_dim, num_heads, hidden_dim, num_layers, num_classes, max_length, dropout=0.1):\n",
    "        super(TransformerSentimentClassifier, self).__init__()\n",
    "        \n",
    "        self.embedding = nn.Embedding(vocab_size, embed_dim)\n",
    "        self.positional_encoding = self.create_positional_encoding(max_length, embed_dim)\n",
    "        \n",
    "        encoder_layers = nn.TransformerEncoderLayer(d_model=embed_dim, nhead=num_heads, dim_feedforward=hidden_dim, dropout=dropout)\n",
    "        self.transformer_encoder = nn.TransformerEncoder(encoder_layers, num_layers=num_layers)\n",
    "        \n",
    "        self.fc1 = nn.Linear(embed_dim, hidden_dim)\n",
    "        self.fc2 = nn.Linear(hidden_dim, num_classes)\n",
    "        self.dropout = nn.Dropout(dropout)\n",
    "        self.layer_norm = nn.LayerNorm(embed_dim)\n",
    "        \n",
    "    def create_positional_encoding(self, max_length, embed_dim):\n",
    "        pe = torch.zeros(max_length, embed_dim)\n",
    "        position = torch.arange(0, max_length, dtype=torch.float).unsqueeze(1)\n",
    "        div_term = torch.exp(torch.arange(0, embed_dim, 2).float() * (-np.log(10000.0) / embed_dim))\n",
    "        pe[:, 0::2] = torch.sin(position * div_term)\n",
    "        pe[:, 1::2] = torch.cos(position * div_term)\n",
    "        pe = pe.unsqueeze(0)  # (1, max_length, embed_dim)\n",
    "        return nn.Parameter(pe, requires_grad=False)\n",
    "    \n",
    "    def forward(self, x, mask=None):\n",
    "        x = self.embedding(x)  # (batch_size, max_length, embed_dim)\n",
    "        x = x + self.positional_encoding[:, :x.size(1), :]\n",
    "        x = self.layer_norm(x)\n",
    "        \n",
    "        x = x.permute(1, 0, 2)  # (max_length, batch_size, embed_dim)\n",
    "        x = self.transformer_encoder(x, src_key_padding_mask=mask)  # (max_length, batch_size, embed_dim)\n",
    "        \n",
    "        x = x.mean(dim=0)  # (batch_size, embed_dim)\n",
    "        x = F.relu(self.fc1(x))\n",
    "        x = self.dropout(x)\n",
    "        x = self.fc2(x)  # (batch_size, num_classes)\n",
    "        return x\n",
    "\n",
    "    def generate_padding_mask(self, inputs, pad_token_id):\n",
    "        mask = (inputs == pad_token_id)\n",
    "        return mask"
   ]
  },
  {
   "cell_type": "code",
   "execution_count": 196,
   "id": "f2d2b7bb-b0cb-4ced-a2e4-36446a5edfa9",
   "metadata": {},
   "outputs": [],
   "source": [
    "pad_token_id = 0\n",
    "BATCH_SIZE = 128\n",
    "vocab_size = len(tokenizer.word_index) + 1  # +1 for padding token\n",
    "embed_dim = 128\n",
    "num_heads = 4\n",
    "hidden_dim = 256\n",
    "num_layers = 2\n",
    "num_classes = 2 \n",
    "\n",
    "# build model\n",
    "model = TransformerSentimentClassifier(vocab_size, embed_dim, num_heads, hidden_dim, num_layers, num_classes, max_length)\n",
    "inputs = torch.randint(0, vocab_size, (BATCH_SIZE, max_length))\n",
    "mask = model.generate_padding_mask(inputs, pad_token_id)\n",
    "outputs = model(inputs, mask)"
   ]
  },
  {
   "cell_type": "markdown",
   "id": "5771c2ad-8dd6-42c1-a263-ce8cec6c665a",
   "metadata": {},
   "source": [
    "#### Create Tensors and Dataloaders"
   ]
  },
  {
   "cell_type": "code",
   "execution_count": 197,
   "id": "fafb413e-8f91-435c-90ed-c8abb2d8bee4",
   "metadata": {},
   "outputs": [],
   "source": [
    "# convert to Torch tensors\n",
    "X_train = torch.tensor(train_padded, dtype=torch.long)\n",
    "y_train = torch.tensor(train_data['label'].values, dtype=torch.long)\n",
    "X_val = torch.tensor(val_padded, dtype=torch.long)\n",
    "y_val = torch.tensor(val_data['label'].values, dtype=torch.long)\n",
    "X_test = torch.tensor(test_padded, dtype=torch.long)\n",
    "y_test = torch.tensor(test_data['label'].values, dtype=torch.long)\n",
    "\n",
    "\n",
    "train_dataset = TensorDataset(X_train, y_train)\n",
    "val_dataset = TensorDataset(X_val, y_val)\n",
    "train_loader = DataLoader(train_dataset, batch_size=BATCH_SIZE, shuffle=True)\n",
    "val_loader = DataLoader(val_dataset, batch_size=BATCH_SIZE, shuffle=False)\n",
    "test_dataset = TensorDataset(X_test, y_test)\n",
    "test_loader = DataLoader(test_dataset, batch_size=BATCH_SIZE, shuffle=False)"
   ]
  },
  {
   "cell_type": "markdown",
   "id": "adc0f83f-7802-4507-8606-bb4f8cf0a876",
   "metadata": {},
   "source": [
    "### Training"
   ]
  },
  {
   "cell_type": "code",
   "execution_count": 198,
   "id": "3aecbc3f-095d-473c-ab84-d24ade9d3e83",
   "metadata": {},
   "outputs": [
    {
     "data": {
      "text/plain": [
       "TransformerSentimentClassifier(\n",
       "  (embedding): Embedding(30165, 128)\n",
       "  (transformer_encoder): TransformerEncoder(\n",
       "    (layers): ModuleList(\n",
       "      (0-1): 2 x TransformerEncoderLayer(\n",
       "        (self_attn): MultiheadAttention(\n",
       "          (out_proj): NonDynamicallyQuantizableLinear(in_features=128, out_features=128, bias=True)\n",
       "        )\n",
       "        (linear1): Linear(in_features=128, out_features=256, bias=True)\n",
       "        (dropout): Dropout(p=0.1, inplace=False)\n",
       "        (linear2): Linear(in_features=256, out_features=128, bias=True)\n",
       "        (norm1): LayerNorm((128,), eps=1e-05, elementwise_affine=True)\n",
       "        (norm2): LayerNorm((128,), eps=1e-05, elementwise_affine=True)\n",
       "        (dropout1): Dropout(p=0.1, inplace=False)\n",
       "        (dropout2): Dropout(p=0.1, inplace=False)\n",
       "      )\n",
       "    )\n",
       "  )\n",
       "  (fc1): Linear(in_features=128, out_features=256, bias=True)\n",
       "  (fc2): Linear(in_features=256, out_features=2, bias=True)\n",
       "  (dropout): Dropout(p=0.1, inplace=False)\n",
       "  (layer_norm): LayerNorm((128,), eps=1e-05, elementwise_affine=True)\n",
       ")"
      ]
     },
     "execution_count": 198,
     "metadata": {},
     "output_type": "execute_result"
    }
   ],
   "source": [
    "import matplotlib.pyplot as plt\n",
    "import torch\n",
    "from torch.utils.data import DataLoader, TensorDataset\n",
    "from torch.optim import AdamW, Adam, SGD\n",
    "from sklearn.model_selection import train_test_split\n",
    "\n",
    "# lists to store training metrics\n",
    "train_losses, val_losses = [], []\n",
    "train_accuracies, val_accuracies = [], []\n",
    "\n",
    "# constants hyper params\n",
    "EPOCHS = 6\n",
    "LEARNING_RATE = 0.001\n",
    "\n",
    "# init optimizer, and loss function\n",
    "optimizer = AdamW(model.parameters(), lr=LEARNING_RATE)\n",
    "criterion = nn.CrossEntropyLoss()\n",
    "\n",
    "device = torch.device(\"cuda\" if torch.cuda.is_available() else \"cpu\")\n",
    "model.to(device)"
   ]
  },
  {
   "cell_type": "code",
   "execution_count": 199,
   "id": "a0dc5910-f18f-458a-b927-fd684ea313b1",
   "metadata": {},
   "outputs": [
    {
     "name": "stdout",
     "output_type": "stream",
     "text": [
      "Epoch 1/6, Loss: 0.5795, Accuracy: 0.6958\n",
      "Validation Loss: 0.5188, Validation Accuracy: 0.7340\n",
      "Epoch 2/6, Loss: 0.3992, Accuracy: 0.8202\n",
      "Validation Loss: 0.3243, Validation Accuracy: 0.8700\n",
      "Epoch 3/6, Loss: 0.3003, Accuracy: 0.8740\n",
      "Validation Loss: 0.3329, Validation Accuracy: 0.8640\n",
      "Epoch 4/6, Loss: 0.2350, Accuracy: 0.9061\n",
      "Validation Loss: 0.3428, Validation Accuracy: 0.8680\n",
      "Epoch 5/6, Loss: 0.1847, Accuracy: 0.9297\n",
      "Validation Loss: 0.3133, Validation Accuracy: 0.8780\n",
      "Epoch 6/6, Loss: 0.1334, Accuracy: 0.9496\n",
      "Validation Loss: 0.3387, Validation Accuracy: 0.8810\n"
     ]
    }
   ],
   "source": [
    "# training loop\n",
    "for epoch in range(EPOCHS):\n",
    "    model.train()\n",
    "    running_loss = 0.0\n",
    "    correct_predictions = 0\n",
    "    total_predictions = 0\n",
    "    \n",
    "    for inputs, labels in train_loader:\n",
    "        inputs, labels = inputs.to(device), labels.to(device)\n",
    "        \n",
    "        optimizer.zero_grad()\n",
    "        outputs = model(inputs)\n",
    "        loss = criterion(outputs, labels)\n",
    "        loss.backward()\n",
    "        optimizer.step()\n",
    "        \n",
    "        running_loss += loss.item() * inputs.size(0)\n",
    "        \n",
    "        _, preds = torch.max(outputs, 1)\n",
    "        correct_predictions += (preds == labels).sum().item()\n",
    "        total_predictions += labels.size(0)\n",
    "    \n",
    "    epoch_loss = running_loss / len(train_loader.dataset)\n",
    "    epoch_accuracy = correct_predictions / total_predictions\n",
    "    train_losses.append(epoch_loss)\n",
    "    train_accuracies.append(epoch_accuracy)\n",
    "    print(f\"Epoch {epoch+1}/{EPOCHS}, Loss: {epoch_loss:.4f}, Accuracy: {epoch_accuracy:.4f}\")\n",
    "\n",
    "    # validation\n",
    "    model.eval()\n",
    "    val_loss = 0.0\n",
    "    correct_predictions = 0\n",
    "    total_predictions = 0\n",
    "    with torch.no_grad():\n",
    "        for inputs, labels in val_loader:\n",
    "            inputs, labels = inputs.to(device), labels.to(device)\n",
    "            outputs = model(inputs)\n",
    "            loss = criterion(outputs, labels)\n",
    "            val_loss += loss.item() * inputs.size(0)\n",
    "            \n",
    "            _, preds = torch.max(outputs, 1)\n",
    "            correct_predictions += (preds == labels).sum().item()\n",
    "            total_predictions += labels.size(0)\n",
    "    \n",
    "    val_loss /= len(val_loader.dataset)\n",
    "    val_accuracy = correct_predictions / total_predictions\n",
    "    val_losses.append(val_loss)\n",
    "    val_accuracies.append(val_accuracy)\n",
    "    print(f\"Validation Loss: {val_loss:.4f}, Validation Accuracy: {val_accuracy:.4f}\")"
   ]
  },
  {
   "cell_type": "markdown",
   "id": "20ad4e58-6104-4326-b29b-cef2e2eec0ba",
   "metadata": {},
   "source": [
    "### Plot Training Metrics"
   ]
  },
  {
   "cell_type": "code",
   "execution_count": 200,
   "id": "12a0f00d-0e01-45b1-9b0d-723b40727416",
   "metadata": {},
   "outputs": [
    {
     "data": {
      "image/png": "[encoded data removed]",
      "text/plain": [
       "<Figure size 1200x500 with 2 Axes>"
      ]
     },
     "metadata": {},
     "output_type": "display_data"
    }
   ],
   "source": [
    "epochs = range(1, EPOCHS + 1)\n",
    "plt.figure(figsize=(12, 5))\n",
    "\n",
    "# Plot loss\n",
    "plt.subplot(1, 2, 1)\n",
    "plt.plot(epochs, train_losses, 'b', label='Training loss')\n",
    "plt.plot(epochs, val_losses, 'r', label='Validation loss')\n",
    "plt.title('Training and Validation Loss')\n",
    "plt.xlabel('Epochs')\n",
    "plt.ylabel('Loss')\n",
    "plt.legend()\n",
    "\n",
    "# Plot accuracy\n",
    "plt.subplot(1, 2, 2)\n",
    "plt.plot(epochs, train_accuracies, 'b', label='Training accuracy')\n",
    "plt.plot(epochs, val_accuracies, 'r', label='Validation accuracy')\n",
    "plt.title('Training and Validation Accuracy')\n",
    "plt.xlabel('Epochs')\n",
    "plt.ylabel('Accuracy')\n",
    "plt.legend()\n",
    "\n",
    "plt.tight_layout()\n",
    "plt.show()\n"
   ]
  },
  {
   "cell_type": "markdown",
   "id": "47b2303c-9fbd-4197-8f87-1db0e68034e2",
   "metadata": {},
   "source": [
    "### Testing the Model"
   ]
  },
  {
   "cell_type": "code",
   "execution_count": 201,
   "id": "0e58eb5a-2e1f-44db-8543-152952cfc333",
   "metadata": {},
   "outputs": [
    {
     "name": "stdout",
     "output_type": "stream",
     "text": [
      "Test Loss: 0.3614\n",
      "Test Accuracy: 86.95%\n"
     ]
    }
   ],
   "source": [
    "# evaluate model\n",
    "model.eval()\n",
    "\n",
    "# track loss and accuracy\n",
    "test_loss = 0.0\n",
    "correct_predictions = 0\n",
    "total_predictions = 0\n",
    "\n",
    "# test\n",
    "with torch.no_grad():\n",
    "    for inputs, labels in test_loader:\n",
    "        inputs, labels = inputs.to(device), labels.to(device)\n",
    "        outputs = model(inputs)\n",
    "        loss = criterion(outputs, labels)\n",
    "        test_loss += loss.item() * inputs.size(0)\n",
    "        \n",
    "        _, preds = torch.max(outputs, 1)\n",
    "        correct_predictions += (preds == labels).sum().item()\n",
    "        total_predictions += labels.size(0)\n",
    "\n",
    "# calc average test loss and accuracy\n",
    "test_loss /= len(test_loader.dataset)\n",
    "test_accuracy = correct_predictions / total_predictions\n",
    "\n",
    "print(f\"Test Loss: {test_loss:.4f}\")\n",
    "print(f\"Test Accuracy: {test_accuracy*100:.2f}%\")\n"
   ]
  }
 ],
 "metadata": {
  "kernelspec": {
   "display_name": "Python 3 (ipykernel)",
   "language": "python",
   "name": "python3"
  },
  "language_info": {
   "codemirror_mode": {
    "name": "ipython",
    "version": 3
   },
   "file_extension": ".py",
   "mimetype": "text/x-python",
   "name": "python",
   "nbconvert_exporter": "python",
   "pygments_lexer": "ipython3",
   "version": "3.11.7"
  }
 },
 "nbformat": 4,
 "nbformat_minor": 5
}
