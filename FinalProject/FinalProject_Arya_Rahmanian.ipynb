{
 "cells": [
  {
   "cell_type": "markdown",
   "id": "a116e89e-6588-424a-b975-8690900716e8",
   "metadata": {},
   "source": [
    "# Final Project\n",
    "## CSCE 633\n",
    "## Arya Rahmanian\n",
    "## Summer 2024"
   ]
  },
  {
   "cell_type": "markdown",
   "id": "c0a6918d-63c6-4660-96b9-3b9aab2dfb6e",
   "metadata": {},
   "source": [
    "### Load Dataset"
   ]
  },
  {
   "cell_type": "code",
   "execution_count": 1,
   "id": "1e07bff3-7c39-4dde-aa45-654cfd79f7d6",
   "metadata": {},
   "outputs": [],
   "source": [
    "import pandas as pd\n",
    "\n",
    "splits = {'train': 'yelp_review_full/train-00000-of-00001.parquet', 'test': 'yelp_review_full/test-00000-of-00001.parquet'}\n",
    "df = pd.read_parquet(\"hf://datasets/Yelp/yelp_review_full/\" + splits[\"train\"])"
   ]
  },
  {
   "cell_type": "code",
   "execution_count": 2,
   "id": "d7190e6a-ce50-4459-9a74-d7d658bf39ca",
   "metadata": {},
   "outputs": [
    {
     "name": "stdout",
     "output_type": "stream",
     "text": [
      "Training Data:\n",
      "        label                                               text\n",
      "177288      0  First of all i'm not a big fan of buffet, i tr...\n",
      "238756      1  Thanks Yelp. I was looking for the words to de...\n",
      "604225      2  Service was so-so. They were receiving a deliv...\n",
      "2838        2  Stamoolis Brothers is one of the Strip Distric...\n",
      "586957      0  I want to give a 2 stars because the service s...\n",
      "\n",
      "Test Data:\n",
      "       label                                               text\n",
      "33553      4  Came a few days ago for a lease, wasn't sure o...\n",
      "9427       0  I chose the 4 Queens for my visit to Las Vegas...\n",
      "199        3  I went here on the day of a wedding (I'm from ...\n",
      "12447      1  Isn't it strange how the little things can sou...\n",
      "39489      4  Visit here several times a year. The food is a...\n"
     ]
    }
   ],
   "source": [
    "# get train and test df\n",
    "train_df = pd.read_parquet(\"hf://datasets/Yelp/yelp_review_full/\" + splits[\"train\"])\n",
    "test_df = pd.read_parquet(\"hf://datasets/Yelp/yelp_review_full/\" + splits[\"test\"])\n",
    "\n",
    "# randomly select data points and split data into train, test, and valid\n",
    "train_data = train_df.sample(n=10000, random_state=42)\n",
    "val_data = train_df.drop(train_data.index).sample(n=1000, random_state=42)\n",
    "test_data = test_df.sample(n=2000, random_state=42)\n",
    "\n",
    "print(\"Training Data:\")\n",
    "print(train_data.head())\n",
    "\n",
    "print(\"\\nTest Data:\")\n",
    "print(test_data.head())"
   ]
  },
  {
   "cell_type": "code",
   "execution_count": 3,
   "id": "5d40a136-0129-44c9-bc6e-38c06e86d021",
   "metadata": {},
   "outputs": [
    {
     "data": {
      "text/plain": [
       "\"\\ndef load_glove_embeddings(file_path):\\n    embedding_dict = {}\\n    with open(file_path, 'r', encoding='utf-8') as f:\\n        for line in f:\\n            values = line.split()\\n            word = values[0]\\n            vector = np.array(values[1:], dtype='float32')\\n            embedding_dict[word] = vector\\n    return embedding_dict\\n\\n\\nglove_file = 'glove.twitter.27B.50d.txt'  \\n\\nembedding_dict = load_glove_embeddings(glove_file)\\n\""
      ]
     },
     "execution_count": 3,
     "metadata": {},
     "output_type": "execute_result"
    }
   ],
   "source": [
    "import numpy as np\n",
    "\"\"\"\n",
    "def load_glove_embeddings(file_path):\n",
    "    embedding_dict = {}\n",
    "    with open(file_path, 'r', encoding='utf-8') as f:\n",
    "        for line in f:\n",
    "            values = line.split()\n",
    "            word = values[0]\n",
    "            vector = np.array(values[1:], dtype='float32')\n",
    "            embedding_dict[word] = vector\n",
    "    return embedding_dict\n",
    "\n",
    "\n",
    "glove_file = 'glove.twitter.27B.50d.txt'  \n",
    "\n",
    "embedding_dict = load_glove_embeddings(glove_file)\n",
    "\"\"\""
   ]
  },
  {
   "cell_type": "markdown",
   "id": "f502c828-6b04-4f06-bcf4-dca94bd72064",
   "metadata": {},
   "source": [
    "### Data Pre-Processing"
   ]
  },
  {
   "cell_type": "code",
   "execution_count": 4,
   "id": "94fa5e05-19ec-4351-9dea-964b0c7b638e",
   "metadata": {},
   "outputs": [],
   "source": [
    "def map_labels(stars):\n",
    "    return 0 if stars < 3 else 1\n",
    "\n",
    "# create our label column\n",
    "train_data['label'] = train_data['label'].apply(map_labels)\n",
    "test_data['label'] = test_data['label'].apply(map_labels)\n",
    "val_data['label'] = val_data['label'].apply(map_labels)\n"
   ]
  },
  {
   "cell_type": "code",
   "execution_count": 5,
   "id": "bb38ce9b-96ad-4420-ba9a-912fe2b8933a",
   "metadata": {},
   "outputs": [
    {
     "name": "stderr",
     "output_type": "stream",
     "text": [
      "[nltk_data] Downloading package stopwords to C:\\Users\\Arya\n",
      "[nltk_data]     Rahmanian\\AppData\\Roaming\\nltk_data...\n",
      "[nltk_data]   Package stopwords is already up-to-date!\n"
     ]
    }
   ],
   "source": [
    "import re\n",
    "from nltk.corpus import stopwords\n",
    "import nltk\n",
    "\n",
    "nltk.download('stopwords')\n",
    "\n",
    "stop_words = set(stopwords.words('english'))\n",
    "\n",
    "#function to preprocess text\n",
    "def preprocess_text(text):\n",
    "    # Remove punctuation\n",
    "    text = re.sub(r'[^\\w\\s]', '', text)\n",
    "    # Convert to lowercase\n",
    "    text = text.lower()\n",
    "    # Remove stop words\n",
    "    text = ' '.join([word for word in text.split() if word not in stop_words])\n",
    "    return text\n",
    "\n",
    "# Apply preprocessing to the 'text' column\n",
    "train_data['text'] = train_data['text'].apply(preprocess_text)\n",
    "val_data['text'] = val_data['text'].apply(preprocess_text)\n",
    "test_data['text'] = test_data['text'].apply(preprocess_text)\n"
   ]
  },
  {
   "cell_type": "markdown",
   "id": "2057554c-7151-4d64-b2f8-552422456cc2",
   "metadata": {},
   "source": [
    "### Tokenize and Pad Text Vectors"
   ]
  },
  {
   "cell_type": "code",
   "execution_count": 6,
   "id": "5c716a79-71d4-43e4-8952-d9a417acbbad",
   "metadata": {},
   "outputs": [
    {
     "name": "stdout",
     "output_type": "stream",
     "text": [
      "(10000, 150)\n",
      "(1000, 150)\n",
      "(2000, 150)\n"
     ]
    }
   ],
   "source": [
    "from tensorflow.keras.preprocessing.text import Tokenizer\n",
    "from tensorflow.keras.preprocessing.sequence import pad_sequences\n",
    "\n",
    "tokenizer = Tokenizer()\n",
    "tokenizer.fit_on_texts(train_data['text'])\n",
    "\n",
    "# Convert text to sequences\n",
    "train_sequences = tokenizer.texts_to_sequences(train_data['text'])\n",
    "val_sequences = tokenizer.texts_to_sequences(val_data['text'])\n",
    "test_sequences = tokenizer.texts_to_sequences(test_data['text'])\n",
    "\n",
    "# Define a maximum length for sequences\n",
    "max_length = 150\n",
    "\n",
    "# Pad/Truncate sequences to the same length\n",
    "train_padded = pad_sequences(train_sequences, maxlen=max_length, padding='post', truncating='post')\n",
    "val_padded = pad_sequences(val_sequences, maxlen=max_length, padding='post', truncating='post')\n",
    "test_padded = pad_sequences(test_sequences, maxlen=max_length, padding='post', truncating='post')\n",
    "\n",
    "# Display the shape of the padded sequences\n",
    "print(train_padded.shape)\n",
    "print(val_padded.shape)\n",
    "print(test_padded.shape)"
   ]
  },
  {
   "cell_type": "markdown",
   "id": "2cc2e052-e3b8-4f68-8fd5-162cc79b81bc",
   "metadata": {},
   "source": [
    "### Build Model"
   ]
  },
  {
   "cell_type": "markdown",
   "id": "6da5e984-c66d-4c35-a4e3-2ce86d57fe85",
   "metadata": {},
   "source": [
    "#### Transformer"
   ]
  },
  {
   "cell_type": "code",
   "execution_count": 7,
   "id": "bd139a1c-fb01-4398-b865-506a6de864ca",
   "metadata": {},
   "outputs": [],
   "source": [
    "import torch.nn as nn\n",
    "class TransformerSentimentClassifier(nn.Module):\n",
    "    def __init__(self, vocab_size, embed_dim, num_heads, hidden_dim, num_layers, num_classes, max_length, dropout=0.1):\n",
    "        super(TransformerSentimentClassifier, self).__init__()\n",
    "        \n",
    "        self.embedding = nn.Embedding(vocab_size, embed_dim)\n",
    "        self.positional_encoding = self.create_positional_encoding(max_length, embed_dim)\n",
    "        \n",
    "        encoder_layers = nn.TransformerEncoderLayer(d_model=embed_dim, nhead=num_heads, dim_feedforward=hidden_dim, dropout=dropout)\n",
    "        self.transformer_encoder = nn.TransformerEncoder(encoder_layers, num_layers=num_layers)\n",
    "        \n",
    "        self.fc1 = nn.Linear(embed_dim, hidden_dim)\n",
    "        self.fc2 = nn.Linear(hidden_dim, num_classes)\n",
    "        self.dropout = nn.Dropout(dropout)\n",
    "        self.layer_norm = nn.LayerNorm(embed_dim)\n",
    "        \n",
    "    def create_positional_encoding(self, max_length, embed_dim):\n",
    "        pe = torch.zeros(max_length, embed_dim)\n",
    "        position = torch.arange(0, max_length, dtype=torch.float).unsqueeze(1)\n",
    "        div_term = torch.exp(torch.arange(0, embed_dim, 2).float() * (-np.log(10000.0) / embed_dim))\n",
    "        pe[:, 0::2] = torch.sin(position * div_term)\n",
    "        pe[:, 1::2] = torch.cos(position * div_term)\n",
    "        pe = pe.unsqueeze(0)  # (1, max_length, embed_dim)\n",
    "        return nn.Parameter(pe, requires_grad=False)\n",
    "    \n",
    "    def forward(self, x, mask=None):\n",
    "        x = self.embedding(x)  # (batch_size, max_length, embed_dim)\n",
    "        x = x + self.positional_encoding[:, :x.size(1), :]\n",
    "        x = self.layer_norm(x)\n",
    "        \n",
    "        x = x.permute(1, 0, 2)  # (max_length, batch_size, embed_dim)\n",
    "        x = self.transformer_encoder(x, src_key_padding_mask=mask)  # (max_length, batch_size, embed_dim)\n",
    "        \n",
    "        x = x.mean(dim=0)  # (batch_size, embed_dim)\n",
    "        x = F.relu(self.fc1(x))\n",
    "        x = self.dropout(x)\n",
    "        x = self.fc2(x)  # (batch_size, num_classes)\n",
    "        return x\n",
    "\n",
    "    def generate_padding_mask(self, inputs, pad_token_id):\n",
    "        mask = (inputs == pad_token_id)\n",
    "        return mask"
   ]
  },
  {
   "cell_type": "code",
   "execution_count": 8,
   "id": "f2d2b7bb-b0cb-4ced-a2e4-36446a5edfa9",
   "metadata": {},
   "outputs": [
    {
     "name": "stderr",
     "output_type": "stream",
     "text": [
      "E:\\anaconda\\Lib\\site-packages\\torch\\nn\\modules\\transformer.py:306: UserWarning: enable_nested_tensor is True, but self.use_nested_tensor is False because encoder_layer.self_attn.batch_first was not True(use batch_first for better inference performance)\n",
      "  warnings.warn(f\"enable_nested_tensor is True, but self.use_nested_tensor is False because {why_not_sparsity_fast_path}\")\n"
     ]
    }
   ],
   "source": [
    "import torch\n",
    "import torch.nn.functional as F\n",
    "\n",
    "pad_token_id = 0\n",
    "BATCH_SIZE = 128\n",
    "vocab_size = len(tokenizer.word_index) + 1  # +1 for padding token\n",
    "embed_dim = 128\n",
    "num_heads = 4\n",
    "hidden_dim = 256\n",
    "num_layers = 2\n",
    "num_classes = 2 \n",
    "\n",
    "# build model\n",
    "model = TransformerSentimentClassifier(vocab_size, embed_dim, num_heads, hidden_dim, num_layers, num_classes, max_length)\n",
    "inputs = torch.randint(0, vocab_size, (BATCH_SIZE, max_length))\n",
    "mask = model.generate_padding_mask(inputs, pad_token_id)\n",
    "outputs = model(inputs, mask)"
   ]
  },
  {
   "cell_type": "markdown",
   "id": "5771c2ad-8dd6-42c1-a263-ce8cec6c665a",
   "metadata": {},
   "source": [
    "#### Create Tensors and Dataloaders"
   ]
  },
  {
   "cell_type": "code",
   "execution_count": 9,
   "id": "fafb413e-8f91-435c-90ed-c8abb2d8bee4",
   "metadata": {},
   "outputs": [],
   "source": [
    "from torch.utils.data import Dataset, TensorDataset, DataLoader\n",
    "\n",
    "# convert to Torch tensors\n",
    "X_train = torch.tensor(train_padded, dtype=torch.long)\n",
    "y_train = torch.tensor(train_data['label'].values, dtype=torch.long)\n",
    "X_val = torch.tensor(val_padded, dtype=torch.long)\n",
    "y_val = torch.tensor(val_data['label'].values, dtype=torch.long)\n",
    "X_test = torch.tensor(test_padded, dtype=torch.long)\n",
    "y_test = torch.tensor(test_data['label'].values, dtype=torch.long)\n",
    "\n",
    "\n",
    "train_dataset = TensorDataset(X_train, y_train)\n",
    "val_dataset = TensorDataset(X_val, y_val)\n",
    "train_loader = DataLoader(train_dataset, batch_size=BATCH_SIZE, shuffle=True)\n",
    "val_loader = DataLoader(val_dataset, batch_size=BATCH_SIZE, shuffle=False)\n",
    "test_dataset = TensorDataset(X_test, y_test)\n",
    "test_loader = DataLoader(test_dataset, batch_size=BATCH_SIZE, shuffle=False)"
   ]
  },
  {
   "cell_type": "markdown",
   "id": "adc0f83f-7802-4507-8606-bb4f8cf0a876",
   "metadata": {},
   "source": [
    "### Training"
   ]
  },
  {
   "cell_type": "code",
   "execution_count": 10,
   "id": "3aecbc3f-095d-473c-ab84-d24ade9d3e83",
   "metadata": {},
   "outputs": [],
   "source": [
    "import matplotlib.pyplot as plt\n",
    "import torch\n",
    "from torch.utils.data import DataLoader, TensorDataset\n",
    "from torch.optim import AdamW, Adam, SGD\n",
    "from sklearn.model_selection import train_test_split\n",
    "\n",
    "# lists to store training metrics\n",
    "train_losses, val_losses = [], []\n",
    "train_accuracies, val_accuracies = [], []\n",
    "\n",
    "# constants hyper params\n",
    "EPOCHS = 7\n",
    "LEARNING_RATE = 0.001\n",
    "\n",
    "# init optimizer, and loss function\n",
    "optimizer = AdamW(model.parameters(), lr=LEARNING_RATE)\n",
    "criterion = nn.CrossEntropyLoss()\n",
    "\n",
    "device = torch.device(\"cuda\" if torch.cuda.is_available() else \"cpu\")\n",
    "model.to(device)\n",
    "\n",
    "best_val_accuracy = 0.0\n",
    "best_model_state_dict = None"
   ]
  },
  {
   "cell_type": "code",
   "execution_count": 11,
   "id": "a0dc5910-f18f-458a-b927-fd684ea313b1",
   "metadata": {},
   "outputs": [
    {
     "name": "stderr",
     "output_type": "stream",
     "text": [
      "E:\\anaconda\\Lib\\site-packages\\torch\\nn\\functional.py:5504: UserWarning: 1Torch was not compiled with flash attention. (Triggered internally at ..\\aten\\src\\ATen\\native\\transformers\\cuda\\sdp_utils.cpp:455.)\n",
      "  attn_output = scaled_dot_product_attention(q, k, v, attn_mask, dropout_p, is_causal)\n"
     ]
    },
    {
     "name": "stdout",
     "output_type": "stream",
     "text": [
      "Epoch 1/7, Loss: 0.6217, Accuracy: 0.6493\n",
      "Validation Loss: 0.5302, Validation Accuracy: 0.7360\n",
      "Epoch 2/7, Loss: 0.4779, Accuracy: 0.7711\n",
      "Validation Loss: 0.4654, Validation Accuracy: 0.7880\n",
      "Epoch 3/7, Loss: 0.3857, Accuracy: 0.8279\n",
      "Validation Loss: 0.4486, Validation Accuracy: 0.8020\n",
      "Epoch 4/7, Loss: 0.3124, Accuracy: 0.8703\n",
      "Validation Loss: 0.5173, Validation Accuracy: 0.7840\n",
      "Epoch 5/7, Loss: 0.2369, Accuracy: 0.9031\n",
      "Validation Loss: 0.4862, Validation Accuracy: 0.7710\n",
      "Epoch 6/7, Loss: 0.1768, Accuracy: 0.9348\n",
      "Validation Loss: 0.6294, Validation Accuracy: 0.7930\n",
      "Epoch 7/7, Loss: 0.1158, Accuracy: 0.9600\n",
      "Validation Loss: 0.5799, Validation Accuracy: 0.7940\n"
     ]
    }
   ],
   "source": [
    "# training loop\n",
    "for epoch in range(EPOCHS):\n",
    "    model.train()\n",
    "    running_loss = 0.0\n",
    "    correct_predictions = 0\n",
    "    total_predictions = 0\n",
    "    \n",
    "    for inputs, labels in train_loader:\n",
    "        inputs, labels = inputs.to(device), labels.to(device)\n",
    "        \n",
    "        optimizer.zero_grad()\n",
    "        outputs = model(inputs)\n",
    "        loss = criterion(outputs, labels)\n",
    "        loss.backward()\n",
    "        optimizer.step()\n",
    "        \n",
    "        running_loss += loss.item() * inputs.size(0)\n",
    "        \n",
    "        _, preds = torch.max(outputs, 1)\n",
    "        correct_predictions += (preds == labels).sum().item()\n",
    "        total_predictions += labels.size(0)\n",
    "    \n",
    "    epoch_loss = running_loss / len(train_loader.dataset)\n",
    "    epoch_accuracy = correct_predictions / total_predictions\n",
    "    train_losses.append(epoch_loss)\n",
    "    train_accuracies.append(epoch_accuracy)\n",
    "    print(f\"Epoch {epoch+1}/{EPOCHS}, Loss: {epoch_loss:.4f}, Accuracy: {epoch_accuracy:.4f}\")\n",
    "\n",
    "    # validation\n",
    "    model.eval()\n",
    "    val_loss = 0.0\n",
    "    correct_predictions = 0\n",
    "    total_predictions = 0\n",
    "    with torch.no_grad():\n",
    "        for inputs, labels in val_loader:\n",
    "            inputs, labels = inputs.to(device), labels.to(device)\n",
    "            outputs = model(inputs)\n",
    "            loss = criterion(outputs, labels)\n",
    "            val_loss += loss.item() * inputs.size(0)\n",
    "            \n",
    "            _, preds = torch.max(outputs, 1)\n",
    "            correct_predictions += (preds == labels).sum().item()\n",
    "            total_predictions += labels.size(0)\n",
    "    \n",
    "    val_loss /= len(val_loader.dataset)\n",
    "    val_accuracy = correct_predictions / total_predictions\n",
    "    val_losses.append(val_loss)\n",
    "    val_accuracies.append(val_accuracy)\n",
    "    print(f\"Validation Loss: {val_loss:.4f}, Validation Accuracy: {val_accuracy:.4f}\")\n",
    "    if val_accuracy > best_val_accuracy:\n",
    "        best_val_accuracy = val_accuracy\n",
    "        best_model_state_dict = model.state_dict()\n"
   ]
  },
  {
   "cell_type": "code",
   "execution_count": 12,
   "id": "d1c2da93-c51a-4260-8493-83ba594b2629",
   "metadata": {},
   "outputs": [
    {
     "data": {
      "text/plain": [
       "<All keys matched successfully>"
      ]
     },
     "execution_count": 12,
     "metadata": {},
     "output_type": "execute_result"
    }
   ],
   "source": [
    "model.load_state_dict(best_model_state_dict)"
   ]
  },
  {
   "cell_type": "markdown",
   "id": "20ad4e58-6104-4326-b29b-cef2e2eec0ba",
   "metadata": {},
   "source": [
    "### Plot Training Metrics"
   ]
  },
  {
   "cell_type": "code",
   "execution_count": 13,
   "id": "12a0f00d-0e01-45b1-9b0d-723b40727416",
   "metadata": {},
   "outputs": [
    {
     "data": {
      "image/png": "[encoded data removed]",
      "text/plain": [
       "<Figure size 1200x500 with 2 Axes>"
      ]
     },
     "metadata": {},
     "output_type": "display_data"
    }
   ],
   "source": [
    "epochs = range(1, EPOCHS + 1)\n",
    "plt.figure(figsize=(12, 5))\n",
    "\n",
    "# Plot loss\n",
    "plt.subplot(1, 2, 1)\n",
    "plt.plot(epochs, train_losses, 'b', label='Training loss')\n",
    "plt.plot(epochs, val_losses, 'r', label='Validation loss')\n",
    "plt.title('Training and Validation Loss')\n",
    "plt.xlabel('Epochs')\n",
    "plt.ylabel('Loss')\n",
    "plt.legend()\n",
    "\n",
    "# Plot accuracy\n",
    "plt.subplot(1, 2, 2)\n",
    "plt.plot(epochs, train_accuracies, 'b', label='Training accuracy')\n",
    "plt.plot(epochs, val_accuracies, 'r', label='Validation accuracy')\n",
    "plt.title('Training and Validation Accuracy')\n",
    "plt.xlabel('Epochs')\n",
    "plt.ylabel('Accuracy')\n",
    "plt.legend()\n",
    "\n",
    "plt.tight_layout()\n",
    "plt.show()"
   ]
  },
  {
   "cell_type": "markdown",
   "id": "47b2303c-9fbd-4197-8f87-1db0e68034e2",
   "metadata": {},
   "source": [
    "### Testing the Model"
   ]
  },
  {
   "cell_type": "code",
   "execution_count": 14,
   "id": "0e58eb5a-2e1f-44db-8543-152952cfc333",
   "metadata": {},
   "outputs": [
    {
     "name": "stdout",
     "output_type": "stream",
     "text": [
      "Test Loss: 0.6160\n",
      "Test Accuracy: 80.10%\n",
      "Precision: 0.76\n",
      "Recall: 0.75\n",
      "F1 Score: 0.76\n",
      "Confusion Matrix:\n",
      "[[985 195]\n",
      " [203 617]]\n"
     ]
    }
   ],
   "source": [
    "from sklearn.metrics import precision_score, recall_score, f1_score, confusion_matrix\n",
    "\n",
    "# evaluate model\n",
    "model.eval()\n",
    "\n",
    "# track loss and accuracy\n",
    "test_loss = 0.0\n",
    "correct_predictions = 0\n",
    "total_predictions = 0\n",
    "\n",
    "# lists to store true and predicted labels for metric calculation\n",
    "all_labels = []\n",
    "all_preds = []\n",
    "\n",
    "# test\n",
    "with torch.no_grad():\n",
    "    for inputs, labels in test_loader:\n",
    "        inputs, labels = inputs.to(device), labels.to(device)\n",
    "        outputs = model(inputs)\n",
    "        loss = criterion(outputs, labels)\n",
    "        test_loss += loss.item() * inputs.size(0)\n",
    "\n",
    "        _, preds = torch.max(outputs, 1)\n",
    "        correct_predictions += (preds == labels).sum().item()\n",
    "        total_predictions += labels.size(0)\n",
    "\n",
    "        # store true and predicted labels\n",
    "        all_labels.extend(labels.cpu().numpy())\n",
    "        all_preds.extend(preds.cpu().numpy())\n",
    "\n",
    "# calc average test loss and accuracy\n",
    "test_loss /= len(test_loader.dataset)\n",
    "test_accuracy = correct_predictions / total_predictions\n",
    "\n",
    "# calculate additional metrics\n",
    "precision = precision_score(all_labels, all_preds, average='binary')\n",
    "recall = recall_score(all_labels, all_preds, average='binary')\n",
    "f1 = f1_score(all_labels, all_preds, average='binary')\n",
    "conf_matrix = confusion_matrix(all_labels, all_preds)\n",
    "\n",
    "print(f\"Test Loss: {test_loss:.4f}\")\n",
    "print(f\"Test Accuracy: {test_accuracy*100:.2f}%\")\n",
    "print(f\"Precision: {precision:.2f}\")\n",
    "print(f\"Recall: {recall:.2f}\")\n",
    "print(f\"F1 Score: {f1:.2f}\")\n",
    "print(\"Confusion Matrix:\")\n",
    "print(conf_matrix)"
   ]
  },
  {
   "cell_type": "code",
   "execution_count": null,
   "id": "acf35001-26ee-4db7-9132-a27c96e38fa5",
   "metadata": {},
   "outputs": [],
   "source": []
  }
 ],
 "metadata": {
  "kernelspec": {
   "display_name": "Python 3 (ipykernel)",
   "language": "python",
   "name": "python3"
  },
  "language_info": {
   "codemirror_mode": {
    "name": "ipython",
    "version": 3
   },
   "file_extension": ".py",
   "mimetype": "text/x-python",
   "name": "python",
   "nbconvert_exporter": "python",
   "pygments_lexer": "ipython3",
   "version": "3.11.7"
  }
 },
 "nbformat": 4,
 "nbformat_minor": 5
}
