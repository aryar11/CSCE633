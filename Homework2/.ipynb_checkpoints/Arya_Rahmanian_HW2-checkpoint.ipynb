{
 "cells": [
  {
   "cell_type": "markdown",
   "id": "bdf503fa",
   "metadata": {},
   "source": [
    "# Homework 2 - CSCE 633\n",
    "## Arya Rahmanian"
   ]
  },
  {
   "cell_type": "markdown",
   "id": "8ba2ac8b",
   "metadata": {},
   "source": [
    "### Imports"
   ]
  },
  {
   "cell_type": "code",
   "execution_count": 38,
   "id": "38c21a41",
   "metadata": {},
   "outputs": [],
   "source": [
    "import pandas as pd\n",
    "import numpy as np\n",
    "import matplotlib.pyplot as plt\n",
    "from sklearn.model_selection import train_test_split\n",
    "from sklearn.metrics import accuracy_score, roc_curve, roc_auc_score\n",
    "import copy"
   ]
  },
  {
   "cell_type": "markdown",
   "id": "7b0dd728",
   "metadata": {},
   "source": [
    "## Part A - Logistic Regression"
   ]
  },
  {
   "cell_type": "code",
   "execution_count": 2,
   "id": "aaf28588",
   "metadata": {},
   "outputs": [],
   "source": [
    "df = pd.read_csv(\"hitters.csv\")"
   ]
  },
  {
   "cell_type": "code",
   "execution_count": 66,
   "id": "2530eac9",
   "metadata": {},
   "outputs": [
    {
     "name": "stdout",
     "output_type": "stream",
     "text": [
      "              Player  AtBat  Hits  HmRun  Runs  RBI  Walks  Years  CAtBat  \\\n",
      "1        -Alan Ashby    315    81      7    24   38     39     14    3449   \n",
      "2       -Alvin Davis    479   130     18    66   72     76      3    1624   \n",
      "3      -Andre Dawson    496   141     20    65   78     37     11    5628   \n",
      "4  -Andres Galarraga    321    87     10    39   42     30      2     396   \n",
      "5   -Alfredo Griffin    594   169      4    74   51     35     11    4408   \n",
      "\n",
      "   CHits  ...  CRuns  CRBI  CWalks  League Division PutOuts  Assists  Errors  \\\n",
      "1    835  ...    321   414     375       N        W     632       43      10   \n",
      "2    457  ...    224   266     263       A        W     880       82      14   \n",
      "3   1575  ...    828   838     354       N        E     200       11       3   \n",
      "4    101  ...     48    46      33       N        E     805       40       4   \n",
      "5   1133  ...    501   336     194       A        W     282      421      25   \n",
      "\n",
      "   Salary  NewLeague  \n",
      "1   475.0          1  \n",
      "2   480.0          0  \n",
      "3   500.0          1  \n",
      "4    91.5          1  \n",
      "5   750.0          0  \n",
      "\n",
      "[5 rows x 21 columns] \n",
      "\n",
      "The shape of the dataset before preprocessing is:  (263, 21)\n"
     ]
    }
   ],
   "source": [
    "print(df.head() , \"\\n\")\n",
    "print(\"The shape of the dataset before preprocessing is: \", df.shape)\n",
    "\n",
    "df.dropna(inplace=True)"
   ]
  },
  {
   "cell_type": "code",
   "execution_count": 67,
   "id": "607c190b",
   "metadata": {},
   "outputs": [],
   "source": [
    "# Extracting labels and features\n",
    "X = df[['AtBat','Hits','HmRun','Runs','RBI','Walks','Years','CAtBat','CHits','CHmRun','CRuns','CRBI','CWalks','League','Division','PutOuts','Assists','Errors','Salary']]\n",
    "y = df[['NewLeague']]"
   ]
  },
  {
   "cell_type": "markdown",
   "id": "2a45bf21",
   "metadata": {},
   "source": [
    "### One-hot encoding for categorical features"
   ]
  },
  {
   "cell_type": "code",
   "execution_count": 68,
   "id": "8ea320f6",
   "metadata": {},
   "outputs": [],
   "source": [
    "# select numbers\n",
    "X_cat = X.select_dtypes(exclude=['int64', 'float64'])                                                                                                         \n",
    "X_dog = X.select_dtypes(include=['int64', 'float64'])                                                                                                         \n",
    "                                                                                                                                                              \n",
    "X_cat = pd.get_dummies(X_cat)                                                                                                                                 \n",
    "X = pd.concat([X_cat, X_dog], axis=1)   "
   ]
  },
  {
   "cell_type": "code",
   "execution_count": 69,
   "id": "491814af-7f6b-4e4d-a9ca-69c5456b073f",
   "metadata": {},
   "outputs": [],
   "source": [
    "NewLeague2number_dict = {\n",
    "    'A':0,\n",
    "    'N':1\n",
    "}\n",
    "\n",
    "y=y.replace({\"NewLeague\": NewLeague2number_dict})"
   ]
  },
  {
   "cell_type": "markdown",
   "id": "d76bf8bd",
   "metadata": {},
   "source": [
    "### Transform labels"
   ]
  },
  {
   "cell_type": "code",
   "execution_count": 70,
   "id": "c24bbf0e",
   "metadata": {},
   "outputs": [],
   "source": [
    "label.replace('A', 0, inplace=True)\n",
    "label.replace('N', 1, inplace=True)"
   ]
  },
  {
   "cell_type": "markdown",
   "id": "156cc233",
   "metadata": {},
   "source": [
    "## Split Data"
   ]
  },
  {
   "cell_type": "code",
   "execution_count": 192,
   "id": "e8cef5a2",
   "metadata": {},
   "outputs": [
    {
     "name": "stdout",
     "output_type": "stream",
     "text": [
      "     League_A  League_N  Division_E  Division_W  AtBat  Hits  HmRun  Runs  \\\n",
      "177         1         0           1           0    441   118     28    84   \n",
      "184         0         1           1           0    586   159     12    72   \n",
      "91          0         1           1           0    475   123     27    76   \n",
      "3           0         1           1           0    496   141     20    65   \n",
      "162         1         0           0           1    165    39      2    13   \n",
      "\n",
      "     RBI  Walks  ...  CAtBat  CHits  CHmRun  CRuns  CRBI  CWalks  PutOuts  \\\n",
      "177   86     68  ...    2723    750     126    433   420     309      190   \n",
      "184   79     53  ...    3082    880      83    363   477     295      181   \n",
      "91    93     72  ...    1810    471     108    292   343     267      226   \n",
      "3     78     37  ...    5628   1575     225    828   838     354      200   \n",
      "162    9     16  ...     196     44       2     18    10      18      332   \n",
      "\n",
      "     Assists  Errors  Salary  \n",
      "177        2       2    1300  \n",
      "184       13       4    1043  \n",
      "91        10       6    1220  \n",
      "3         11       3     500  \n",
      "162       19       2      75  \n",
      "\n",
      "[5 rows x 21 columns]\n",
      "     NewLeague\n",
      "177          0\n",
      "184          1\n",
      "91           1\n",
      "3            1\n",
      "162          1\n"
     ]
    }
   ],
   "source": [
    "X_train, X_test, y_train, y_test = train_test_split(X, y, test_size=0.3, random_state=42)\n",
    "X_train = X_train.astype(np.int64)\n",
    "X_test = X_test.astype(np.int64)\n",
    "print(X_train.head())\n",
    "print(y_train.head())"
   ]
  },
  {
   "cell_type": "markdown",
   "id": "27bcc49a",
   "metadata": {},
   "source": [
    "## Logistic Regression"
   ]
  },
  {
   "cell_type": "code",
   "execution_count": 184,
   "id": "6a5f2014",
   "metadata": {},
   "outputs": [],
   "source": [
    "class LogisticRegression():\n",
    "    def __init__(self, learning_rate=0.1, iterations=1000 ):\n",
    "        self.losses = []\n",
    "        self.train_accuracies = []\n",
    "        self.learning_rate = learning_rate\n",
    "        self.iterations = iterations\n",
    "        \n",
    "    def fit(self, x, y):\n",
    "        self.weights = np.zeros(x.shape[1])\n",
    "        self.bias = 0\n",
    "\n",
    "        for i in range(self.iterations):\n",
    "            x_dot_weights = np.matmul(self.weights, x.transpose()) + self.bias\n",
    "            pred = self._sigmoid(x_dot_weights)\n",
    "            loss = self.compute_loss(y, pred)\n",
    "            error_w, error_b = self.compute_gradients(x, y, pred)\n",
    "            self.update_model_parameters(error_w, error_b)\n",
    "\n",
    "            pred_to_class = [1 if p > 0.5 else 0 for p in pred]\n",
    "            self.train_accuracies.append(accuracy_score(y, pred_to_class))\n",
    "            self.losses.append(loss)\n",
    "\n",
    "    def compute_loss(self, y_true, y_pred):\n",
    "        # binary cross entropy\n",
    "        y_zero_loss = y_true * np.log(y_pred + 1e-9)\n",
    "        y_one_loss = (1-y_true) * np.log(1 - y_pred + 1e-9)\n",
    "        return -np.mean(y_zero_loss + y_one_loss)\n",
    "\n",
    "    def compute_gradients(self, x, y_true, y_pred):\n",
    "        # derivative of binary cross entropy\n",
    "        difference =  y_pred - y_true\n",
    "        gradient_b = np.mean(difference)\n",
    "        gradients_w = np.matmul(x.transpose(), difference)\n",
    "        gradients_w = np.array([np.mean(grad) for grad in gradients_w])\n",
    "\n",
    "        return gradients_w, gradient_b\n",
    "\n",
    "    def update_model_parameters(self, error_w, error_b):\n",
    "        self.weights = self.weights - (self.learning_rate * error_w)\n",
    "        self.bias = self.bias - (self.learning_rate * error_b)\n",
    "\n",
    "    def predict(self, x):\n",
    "        x_dot_weights = np.matmul(x, self.weights.transpose()) + self.bias\n",
    "        probabilities = self._sigmoid(x_dot_weights)\n",
    "        return [1 if p > 0.4 else 0 for p in probabilities]\n",
    "\n",
    "    def _sigmoid(self, x):\n",
    "        return np.array([self._sigmoid_function(value) for value in x])\n",
    "\n",
    "    def _sigmoid_function(self, x):\n",
    "        if x >= 0:\n",
    "            z = np.exp(-x)\n",
    "            return 1 / (1 + z)\n",
    "        else:\n",
    "            z = np.exp(x)\n",
    "            return z / (1 + z)\n",
    "\n",
    "    def _transform_x(self, x):\n",
    "        x = copy.deepcopy(x)\n",
    "        return x\n",
    "\n",
    "    def _transform_y(self, y):\n",
    "        y = copy.deepcopy(y)\n",
    "        return y.reshape(y.shape[0], 1)\n"
   ]
  },
  {
   "cell_type": "code",
   "execution_count": 123,
   "id": "34a2a36e-1477-453b-8b21-1c1fb491efc1",
   "metadata": {},
   "outputs": [],
   "source": [
    "class LogisticRegression:\n",
    "    def __init__(self, learning_rate=0.1, iterations=1000):\n",
    "        self.learning_rate = learning_rate\n",
    "        self.iterations = iterations\n",
    "        \n",
    "    def sigmoid(self,z):\n",
    "        print(z)\n",
    "        sig = 1/(1+np.exp(-z))\n",
    "        return sig\n",
    "        \n",
    "    def initialize(self,X):\n",
    "        weights = np.zeros((X.shape[1]+1,1))\n",
    "        X = np.c_[np.ones((X.shape[0],1)),X]\n",
    "        return weights,X\n",
    "    def fit(self, X, y, alpha=0.001, iter=400):\n",
    "        weights, X = self.initialize(X)\n",
    "        def cost(theta):\n",
    "            z = np.dot(X, theta)\n",
    "            cost0 = y.T.dot(np.log(self.sigmoid(z)))\n",
    "            cost1 = (1 - y).T.dot(np.log(1 - self.sigmoid(z)))\n",
    "            cost = -((cost1 + cost0)) / len(y)\n",
    "            return cost\n",
    "        cost_list = np.zeros(iter,)\n",
    "        for i in range(iter):\n",
    "            weights = weights - alpha * np.dot(X.T, (self.sigmoid(np.dot(X, weights)) - y.reshape(-1, 1)))\n",
    "            cost_list[i] = cost(weights)\n",
    "        self.weights = weights\n",
    "        return cost_list\n",
    "\n",
    "    def predict(self,X):\n",
    "        z = dot(self.initialize(X)[1],self.weights)\n",
    "        lis = []\n",
    "        for i in self.sigmoid(z):\n",
    "            if i>0.5:\n",
    "                lis.append(1)\n",
    "            else:\n",
    "                lis.append(0)\n",
    "        return lis\n",
    "\n",
    "    def _sigmoid(self, x):\n",
    "        return np.array([self._sigmoid_function(value) for value in x])\n",
    "    \n",
    "    def _sigmoid_function(self, x):\n",
    "        if x >= 0:\n",
    "            z = np.exp(-x)\n",
    "            return 1 / (1 + z)\n",
    "        else:\n",
    "            z = np.exp(x)\n",
    "            return z / (1 + z)"
   ]
  },
  {
   "cell_type": "code",
   "execution_count": 238,
   "id": "3b480fc5-dccb-43fc-b24e-29985d8eb1e1",
   "metadata": {},
   "outputs": [],
   "source": [
    "class LogisticRegression():\n",
    "    def __init__(self):\n",
    "        self.losses = []\n",
    "        self.train_accuracies = []\n",
    "\n",
    "    def fit(self, x, y, epochs):\n",
    "        x = self._transform_x(x)\n",
    "        y = self._transform_y(y)\n",
    "\n",
    "        self.weights = np.zeros(x.shape[1])\n",
    "        self.bias = 0\n",
    "\n",
    "        for i in range(epochs):\n",
    "            x_dot_weights = np.matmul(self.weights, x.transpose()) + self.bias\n",
    "            pred = self._sigmoid(x_dot_weights)\n",
    "            loss = self.compute_loss(y, pred)\n",
    "            error_w, error_b = self.compute_gradients(x, y, pred)\n",
    "            self.update_model_parameters(error_w, error_b)\n",
    "\n",
    "            pred_to_class = [1 if p > 0.5 else 0 for p in pred]\n",
    "            self.train_accuracies.append(accuracy_score(y, pred_to_class))\n",
    "            self.losses.append(loss)\n",
    "\n",
    "    def compute_loss(self, y_true, y_pred):\n",
    "        # binary cross entropy\n",
    "        y_zero_loss = y_true * np.log(y_pred + 1e-9)\n",
    "        y_one_loss = (1-y_true) * np.log(1 - y_pred + 1e-9)\n",
    "        return -np.mean(y_zero_loss + y_one_loss)\n",
    "\n",
    "    def compute_gradients(self, x, y_true, y_pred):\n",
    "        # derivative of binary cross entropy\n",
    "        difference =  y_pred - y_true\n",
    "        gradient_b = np.mean(difference)\n",
    "        gradients_w = np.matmul(x.transpose(), difference)\n",
    "        gradients_w = np.array([np.mean(grad) for grad in gradients_w])\n",
    "\n",
    "        return gradients_w, gradient_b\n",
    "\n",
    "    def update_model_parameters(self, error_w, error_b):\n",
    "        self.weights = self.weights - 0.1 * error_w\n",
    "        self.bias = self.bias - 0.1 * error_b\n",
    "\n",
    "    def predict(self, x):\n",
    "        x_dot_weights = np.matmul(x, self.weights.transpose()) + self.bias\n",
    "        probabilities = self._sigmoid(x_dot_weights)\n",
    "        return [1 if p > 0.5 else 0 for p in probabilities]\n",
    "\n",
    "    def _sigmoid(self, x):\n",
    "        return np.array([self._sigmoid_function(value) for value in x])\n",
    "\n",
    "    def _sigmoid_function(self, x):\n",
    "        if x >= 0:\n",
    "            z = np.exp(-x)\n",
    "            return 1 / (1 + z)\n",
    "        else:\n",
    "            z = np.exp(x)\n",
    "            return z / (1 + z)\n",
    "\n",
    "    def _transform_x(self, x):\n",
    "        x = copy.deepcopy(x)\n",
    "        return x\n",
    "\n",
    "    def _transform_y(self, y):\n",
    "        y = copy.deepcopy(y)\n",
    "        return y.reshape(y.shape[0], 1)"
   ]
  },
  {
   "cell_type": "code",
   "execution_count": 227,
   "id": "639c1ae8-ec18-4f49-9440-932d91ab6b8b",
   "metadata": {},
   "outputs": [],
   "source": [
    "class LogisticRegression:\n",
    "    def __init__(self, learning_rate=0.1, iterations=1000):\n",
    "        self.learning_rate = learning_rate\n",
    "        self.iterations = iterations\n",
    "        \n",
    "    def sigmoid(self, z):\n",
    "        # Using a stable sigmoid function\n",
    "        return np.where(z >= 0, \n",
    "                        1 / (1 + np.exp(-z)), \n",
    "                        np.exp(z) / (1 + np.exp(z)))\n",
    "        \n",
    "    def fit(self, X, y):\n",
    "        # Ensure y is a 1D array\n",
    "        y = y.flatten()\n",
    "        \n",
    "        # Initialize weights and bias\n",
    "        self.weights = np.zeros(X.shape[1])\n",
    "        self.bias = 0\n",
    "\n",
    "        # Gradient Descent\n",
    "        for _ in range(self.iterations):\n",
    "            z = np.dot(X, self.weights) + self.bias\n",
    "            y_pred = self.sigmoid(z)\n",
    "            \n",
    "            # Calculate gradients\n",
    "            dw = np.dot(X.T, (y_pred - y)) / len(y)\n",
    "            db = np.sum(y_pred - y) / len(y)\n",
    "            \n",
    "            # Update weights and bias\n",
    "            self.weights -= self.learning_rate * dw\n",
    "            self.bias -= self.learning_rate * db\n",
    "            \n",
    "    def predict(self, X):\n",
    "        z = np.dot(X, self.weights) + self.bias\n",
    "        y_pred = self.sigmoid(z)\n",
    "        return [1 if p > 0.5 else 0 for p in y_pred]\n",
    "    \n",
    "    def predict_proba(self, X):\n",
    "        z = np.dot(X, self.weights) + self.bias\n",
    "        return self.sigmoid(z)"
   ]
  },
  {
   "cell_type": "code",
   "execution_count": 262,
   "id": "3919f635-611c-4aa3-89d5-6ff2191751ca",
   "metadata": {},
   "outputs": [],
   "source": [
    "class LogisticRegression:\n",
    "    def __init__(self, learning_rate=0.01, iterations=1000):\n",
    "        self.learning_rate = learning_rate\n",
    "        self.iterations = iterations\n",
    "    \n",
    "    # Sigmoid function\n",
    "    def sigmoid(self, z):\n",
    "        return 1 / (1 + np.exp(-z))\n",
    "        \n",
    "    def fit(self, X, Y):\n",
    "        # Weight initialization\n",
    "        self.m, self.n = X.shape\n",
    "        self.W = np.zeros((self.n, 1))\n",
    "        self.b = 0\n",
    "        \n",
    "        # Data\n",
    "        self.X = X\n",
    "        self.Y = Y\n",
    "        \n",
    "        # Gradient descent learning to update the weights in each iteration\n",
    "        for i in range(self.iterations):\n",
    "            self.update_weights()\n",
    "            if i % 100 == 0 or i == self.iterations - 1:\n",
    "                print(f\"Iteration {i}: Loss {self.compute_loss()}\")  # Debugging line to check loss\n",
    "    \n",
    "    # Helper function to update weights in gradient descent\n",
    "    def update_weights(self):\n",
    "        Y_pred = self.predict(self.X)\n",
    "        error = Y_pred - self.Y\n",
    "        \n",
    "        dW = np.dot(self.X.T, error) / self.m\n",
    "        db = np.sum(error) / self.m\n",
    "        \n",
    "        self.W -= np.dot(self.learning_rate, dW)\n",
    "        self.b -= np.dot(self.learning_rate, db)\n",
    "    \n",
    "    # Predict function\n",
    "    def predict(self, X):\n",
    "        linear_model = np.dot(X, self.W) + self.b\n",
    "        return self.sigmoid(linear_model)\n",
    "    \n",
    "    # Compute loss function\n",
    "    def compute_loss(self):\n",
    "        Y_pred = self.predict(self.X)\n",
    "        return -np.mean(self.Y * np.log(Y_pred + 1e-8) + (1 - self.Y) * np.log(1 - Y_pred + 1e-8))\n",
    "    \n",
    "    # Function to predict binary labels\n",
    "    def predict_labels(self, X, threshold=0.5):\n",
    "        probabilities = self.predict(X)\n",
    "        return (probabilities >= threshold).astype(int)\n"
   ]
  },
  {
   "cell_type": "code",
   "execution_count": 263,
   "id": "ef4cc932",
   "metadata": {},
   "outputs": [
    {
     "name": "stdout",
     "output_type": "stream",
     "text": [
      "X_train_np shape: (184, 21)\n",
      "int64\n",
      "X_test_np shape: (79, 21)\n",
      "int64\n",
      "y_train_np shape: (184, 1)\n",
      "int64\n",
      "y_test_np shape: (79, 1)\n",
      "int64\n",
      "Iteration 0: Loss 8.307249547645323\n",
      "Iteration 100: Loss 8.30932880835895\n",
      "Iteration 200: Loss 8.409441203760865\n",
      "Iteration 300: Loss 8.388406171830832\n",
      "Iteration 400: Loss 8.209221666169526\n",
      "Iteration 500: Loss 8.209216543445217\n",
      "Iteration 600: Loss 8.209216412689296\n",
      "Iteration 700: Loss 8.211141029897206\n",
      "Iteration 800: Loss 8.209272937293957\n",
      "Iteration 900: Loss 8.209249104854878\n",
      "Iteration 999: Loss 9.139012100581752\n",
      "AUROC: 0.46121794871794874\n"
     ]
    },
    {
     "name": "stderr",
     "output_type": "stream",
     "text": [
      "C:\\Users\\Arya Rahmanian\\AppData\\Local\\Temp\\ipykernel_23176\\284751567.py:8: RuntimeWarning: overflow encountered in exp\n",
      "  return 1 / (1 + np.exp(-z))\n"
     ]
    },
    {
     "data": {
      "image/png": "[encoded data removed]",
      "text/plain": [
       "<Figure size 640x480 with 1 Axes>"
      ]
     },
     "metadata": {},
     "output_type": "display_data"
    }
   ],
   "source": [
    "# Ensure the shapes are correct: (number of samples, number of features)\n",
    "X_train_np = X_train.to_numpy()  # should be (number of training samples, number of features)\n",
    "X_test_np = X_test.to_numpy()  # should be (number of test samples, number of features)\n",
    "y_train_np = y_train.to_numpy()  # should be (number of training samples, 1)\n",
    "y_test_np = y_test.to_numpy()  # should be (number of test samples, 1)\n",
    "\n",
    "print(f'X_train_np shape: {X_train_np.shape}')\n",
    "print(X_train_np.dtype)\n",
    "print(f'X_test_np shape: {X_test_np.shape}')\n",
    "print(X_test_np.dtype)\n",
    "print(f'y_train_np shape: {y_train_np.shape}')\n",
    "print(y_train_np.dtype)\n",
    "print(f'y_test_np shape: {y_test_np.shape}')\n",
    "print(y_test_np.dtype)\n",
    "\n",
    "# Initialize and train the model\n",
    "\n",
    "model = LogisticRegression(learning_rate=0.001, iterations=1000)\n",
    "model.fit(X_train_np, y_train_np)\n",
    "\n",
    "# Make predictions\n",
    "predictions = model.predict(X_test_np)\n",
    "#print(predictions)\n",
    "\n",
    "# Calculate ROC curve and AUROC\n",
    "fpr, tpr, _ = roc_curve(y_test_np.flatten(), probabilities)\n",
    "roc_auc = roc_auc_score(y_test_np.flatten(), probabilities)\n",
    "print(f'AUROC: {roc_auc}')\n",
    "\n",
    "# Plot ROC curve\n",
    "plt.figure()\n",
    "plt.plot(fpr, tpr, color='darkorange', lw=2, label=f'ROC curve (area = {roc_auc:0.2f})')\n",
    "plt.plot([0, 1], [0, 1], color='navy', lw=2, linestyle='--')\n",
    "plt.xlim([0.0, 1.0])\n",
    "plt.ylim([0.0, 1.05])\n",
    "plt.xlabel('False Positive Rate')\n",
    "plt.ylabel('True Positive Rate')\n",
    "plt.title('Receiver Operating Characteristic')\n",
    "plt.legend(loc='lower right')\n",
    "plt.show()"
   ]
  },
  {
   "cell_type": "code",
   "execution_count": 235,
   "id": "6d423924-5c6b-44c1-b7bf-87821b391e34",
   "metadata": {},
   "outputs": [
    {
     "name": "stdout",
     "output_type": "stream",
     "text": [
      "Accuracy: 0.9367088607594937\n",
      "AUROC: 0.9666666666666666\n"
     ]
    },
    {
     "name": "stderr",
     "output_type": "stream",
     "text": [
      "E:\\anaconda\\Lib\\site-packages\\sklearn\\utils\\validation.py:1143: DataConversionWarning: A column-vector y was passed when a 1d array was expected. Please change the shape of y to (n_samples, ), for example using ravel().\n",
      "  y = column_or_1d(y, warn=True)\n"
     ]
    },
    {
     "data": {
      "image/png": "[encoded data removed]",
      "text/plain": [
       "<Figure size 640x480 with 1 Axes>"
      ]
     },
     "metadata": {},
     "output_type": "display_data"
    }
   ],
   "source": [
    "from sklearn.linear_model import LogisticRegression\n",
    "from sklearn.metrics import accuracy_score, roc_curve, roc_auc_score\n",
    "import matplotlib.pyplot as plt\n",
    "\n",
    "# Initialize and train the model\n",
    "model = LogisticRegression(solver='liblinear', random_state=0)\n",
    "model.fit(X_train_np, y_train_np)\n",
    "\n",
    "# Make predictions\n",
    "predictions = model.predict(X_test_np)\n",
    "\n",
    "# Calculate accuracy\n",
    "accuracy = accuracy_score(y_test_np, predictions)\n",
    "print(f'Accuracy: {accuracy}')\n",
    "\n",
    "# Get prediction probabilities for ROC curve\n",
    "probabilities = model.predict_proba(X_test_np)[:, 1]\n",
    "\n",
    "# Calculate ROC curve and AUROC\n",
    "fpr, tpr, _ = roc_curve(y_test_np, probabilities)\n",
    "roc_auc = roc_auc_score(y_test_np, probabilities)\n",
    "print(f'AUROC: {roc_auc}')\n",
    "\n",
    "# Plot ROC curve\n",
    "plt.figure()\n",
    "plt.plot(fpr, tpr, color='darkorange', lw=2, label=f'ROC curve (area = {roc_auc:0.2f})')\n",
    "plt.plot([0, 1], [0, 1], color='navy', lw=2, linestyle='--')\n",
    "plt.xlim([0.0, 1.0])\n",
    "plt.ylim([0.0, 1.05])\n",
    "plt.xlabel('False Positive Rate')\n",
    "plt.ylabel('True Positive Rate')\n",
    "plt.title('Receiver Operating Characteristic')\n",
    "plt.legend(loc='lower right')\n",
    "plt.show()"
   ]
  },
  {
   "cell_type": "code",
   "execution_count": null,
   "id": "57b71e2f-965b-44a7-aa9e-380d390d54ec",
   "metadata": {},
   "outputs": [],
   "source": []
  }
 ],
 "metadata": {
  "kernelspec": {
   "display_name": "Python 3 (ipykernel)",
   "language": "python",
   "name": "python3"
  },
  "language_info": {
   "codemirror_mode": {
    "name": "ipython",
    "version": 3
   },
   "file_extension": ".py",
   "mimetype": "text/x-python",
   "name": "python",
   "nbconvert_exporter": "python",
   "pygments_lexer": "ipython3",
   "version": "3.11.7"
  }
 },
 "nbformat": 4,
 "nbformat_minor": 5
}
